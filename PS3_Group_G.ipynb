{
  "cells": [
    {
      "cell_type": "markdown",
      "metadata": {
        "id": "GLHcLz5zvGMH"
      },
      "source": [
        "# NLP From Scratch: Translation with a Sequence to Sequence Network and Attention\n",
        "\n",
        "In this project we will be teaching a neural network to translate from German to English.\n",
        "\n",
        "\n",
        "This is made possible by the simple but powerful idea of the [sequence\n",
        "to sequence network](https://arxiv.org/abs/1409.3215), in which two\n",
        "recurrent neural networks work together to transform one sequence to\n",
        "another. An encoder network condenses an input sequence into a vector,\n",
        "and a decoder network unfolds that vector into a new sequence.\n",
        "\n",
        "\n",
        "To improve upon this model we'll use an [attention\n",
        "mechanism](https://arxiv.org/abs/1409.0473), which lets the decoder\n",
        "learn to focus over a specific range of the input sequence."
      ]
    },
    {
      "cell_type": "markdown",
      "metadata": {
        "id": "rs-8uyBGvGMP"
      },
      "source": [
        "## Dependencies"
      ]
    },
    {
      "cell_type": "code",
      "execution_count": 3,
      "metadata": {
        "id": "ttoEcLnfvGMR",
        "outputId": "27ad58be-04c0-4128-edf6-b5dd171be437",
        "colab": {
          "base_uri": "https://localhost:8080/"
        }
      },
      "outputs": [
        {
          "output_type": "stream",
          "name": "stdout",
          "text": [
            "Requirement already satisfied: pandas in /usr/local/lib/python3.10/dist-packages (1.5.3)\n",
            "Requirement already satisfied: torch in /usr/local/lib/python3.10/dist-packages (2.1.0+cu118)\n",
            "Requirement already satisfied: matplotlib in /usr/local/lib/python3.10/dist-packages (3.7.1)\n",
            "Requirement already satisfied: numpy in /usr/local/lib/python3.10/dist-packages (1.23.5)\n",
            "Requirement already satisfied: ipython in /usr/local/lib/python3.10/dist-packages (7.34.0)\n",
            "Requirement already satisfied: python-dateutil>=2.8.1 in /usr/local/lib/python3.10/dist-packages (from pandas) (2.8.2)\n",
            "Requirement already satisfied: pytz>=2020.1 in /usr/local/lib/python3.10/dist-packages (from pandas) (2023.3.post1)\n",
            "Requirement already satisfied: filelock in /usr/local/lib/python3.10/dist-packages (from torch) (3.13.1)\n",
            "Requirement already satisfied: typing-extensions in /usr/local/lib/python3.10/dist-packages (from torch) (4.5.0)\n",
            "Requirement already satisfied: sympy in /usr/local/lib/python3.10/dist-packages (from torch) (1.12)\n",
            "Requirement already satisfied: networkx in /usr/local/lib/python3.10/dist-packages (from torch) (3.2.1)\n",
            "Requirement already satisfied: jinja2 in /usr/local/lib/python3.10/dist-packages (from torch) (3.1.2)\n",
            "Requirement already satisfied: fsspec in /usr/local/lib/python3.10/dist-packages (from torch) (2023.6.0)\n",
            "Requirement already satisfied: triton==2.1.0 in /usr/local/lib/python3.10/dist-packages (from torch) (2.1.0)\n",
            "Requirement already satisfied: contourpy>=1.0.1 in /usr/local/lib/python3.10/dist-packages (from matplotlib) (1.2.0)\n",
            "Requirement already satisfied: cycler>=0.10 in /usr/local/lib/python3.10/dist-packages (from matplotlib) (0.12.1)\n",
            "Requirement already satisfied: fonttools>=4.22.0 in /usr/local/lib/python3.10/dist-packages (from matplotlib) (4.44.3)\n",
            "Requirement already satisfied: kiwisolver>=1.0.1 in /usr/local/lib/python3.10/dist-packages (from matplotlib) (1.4.5)\n",
            "Requirement already satisfied: packaging>=20.0 in /usr/local/lib/python3.10/dist-packages (from matplotlib) (23.2)\n",
            "Requirement already satisfied: pillow>=6.2.0 in /usr/local/lib/python3.10/dist-packages (from matplotlib) (9.4.0)\n",
            "Requirement already satisfied: pyparsing>=2.3.1 in /usr/local/lib/python3.10/dist-packages (from matplotlib) (3.1.1)\n",
            "Requirement already satisfied: setuptools>=18.5 in /usr/local/lib/python3.10/dist-packages (from ipython) (67.7.2)\n",
            "Requirement already satisfied: jedi>=0.16 in /usr/local/lib/python3.10/dist-packages (from ipython) (0.19.1)\n",
            "Requirement already satisfied: decorator in /usr/local/lib/python3.10/dist-packages (from ipython) (4.4.2)\n",
            "Requirement already satisfied: pickleshare in /usr/local/lib/python3.10/dist-packages (from ipython) (0.7.5)\n",
            "Requirement already satisfied: traitlets>=4.2 in /usr/local/lib/python3.10/dist-packages (from ipython) (5.7.1)\n",
            "Requirement already satisfied: prompt-toolkit!=3.0.0,!=3.0.1,<3.1.0,>=2.0.0 in /usr/local/lib/python3.10/dist-packages (from ipython) (3.0.41)\n",
            "Requirement already satisfied: pygments in /usr/local/lib/python3.10/dist-packages (from ipython) (2.16.1)\n",
            "Requirement already satisfied: backcall in /usr/local/lib/python3.10/dist-packages (from ipython) (0.2.0)\n",
            "Requirement already satisfied: matplotlib-inline in /usr/local/lib/python3.10/dist-packages (from ipython) (0.1.6)\n",
            "Requirement already satisfied: pexpect>4.3 in /usr/local/lib/python3.10/dist-packages (from ipython) (4.8.0)\n",
            "Requirement already satisfied: parso<0.9.0,>=0.8.3 in /usr/local/lib/python3.10/dist-packages (from jedi>=0.16->ipython) (0.8.3)\n",
            "Requirement already satisfied: ptyprocess>=0.5 in /usr/local/lib/python3.10/dist-packages (from pexpect>4.3->ipython) (0.7.0)\n",
            "Requirement already satisfied: wcwidth in /usr/local/lib/python3.10/dist-packages (from prompt-toolkit!=3.0.0,!=3.0.1,<3.1.0,>=2.0.0->ipython) (0.2.10)\n",
            "Requirement already satisfied: six>=1.5 in /usr/local/lib/python3.10/dist-packages (from python-dateutil>=2.8.1->pandas) (1.16.0)\n",
            "Requirement already satisfied: MarkupSafe>=2.0 in /usr/local/lib/python3.10/dist-packages (from jinja2->torch) (2.1.3)\n",
            "Requirement already satisfied: mpmath>=0.19 in /usr/local/lib/python3.10/dist-packages (from sympy->torch) (1.3.0)\n"
          ]
        }
      ],
      "source": [
        "# using Python 3.9\n",
        "%pip install pandas torch matplotlib numpy ipython"
      ]
    },
    {
      "cell_type": "code",
      "execution_count": 4,
      "metadata": {
        "id": "i381hyrevGMT"
      },
      "outputs": [],
      "source": [
        "from __future__ import unicode_literals, print_function, division\n",
        "import os\n",
        "from io import open\n",
        "import unicodedata\n",
        "import string\n",
        "import re\n",
        "import random\n",
        "import time\n",
        "import math\n",
        "import pandas as pd\n",
        "\n",
        "from IPython.display import Image\n",
        "import torch\n",
        "import torch.nn as nn\n",
        "from torch import optim\n",
        "import torch.nn.functional as F\n",
        "\n",
        "device = torch.device(\"cuda\" if torch.cuda.is_available() else \"cpu\")"
      ]
    },
    {
      "cell_type": "code",
      "source": [
        "import os\n",
        "os.environ['CUDA_LAUNCH_BLOCKING'] = \"1\"\n"
      ],
      "metadata": {
        "id": "uvjE9WKdej_T"
      },
      "execution_count": 5,
      "outputs": []
    },
    {
      "cell_type": "markdown",
      "metadata": {
        "id": "ULBf_g5pvGMV"
      },
      "source": [
        "## Loading & preprocessing training data"
      ]
    },
    {
      "cell_type": "markdown",
      "metadata": {
        "id": "V3FBrubJvGMd"
      },
      "source": [
        "The files are all in Unicode, to simplify we will turn Unicode\n",
        "characters to ASCII, make everything lowercase, and trim most\n",
        "punctuation. We then implement a parsing funciton that reads a csv file from the specified path, normalizes every sentence in the dataset using the normalize function, and returns a list of (german_sentence, english_sentence) pairs. If the parameter reverse is True, the order of languages in the tuple are reversed resulting in reverse translation.\n",
        "\n"
      ]
    },
    {
      "cell_type": "code",
      "execution_count": 6,
      "metadata": {
        "id": "Q_GJNRPYvGMg"
      },
      "outputs": [],
      "source": [
        "# https://stackoverflow.com/a/518232/2809427\n",
        "def unicode_to_ascii(s):\n",
        "    return ''.join(\n",
        "        c for c in unicodedata.normalize('NFD', s)\n",
        "        if unicodedata.category(c) != 'Mn'\n",
        "    )\n",
        "\n",
        "# Lowercase, trim, and remove non-letter characters\n",
        "def normalize_string(s):\n",
        "    s = unicode_to_ascii(s.lower().strip())\n",
        "    s = re.sub(r\"([.!?])\", r\" \\1\", s)\n",
        "    s = re.sub(r\"[^a-zA-Z.!?]+\", r\" \", s)\n",
        "    return s\n",
        "\n",
        "\n",
        "def parse_data(path, reverse=False):\n",
        "\n",
        "  pairs = pd.read_csv(path)\n",
        "  pairs['GER'] = pairs['GER'].apply(normalize_string)\n",
        "  pairs['ENG'] = pairs['ENG'].apply(normalize_string)\n",
        "\n",
        "  if reverse:\n",
        "    pairs = pairs[['ENG', 'GER']]\n",
        "\n",
        "  return pairs"
      ]
    },
    {
      "cell_type": "markdown",
      "metadata": {
        "id": "8eHoLTeevGMk"
      },
      "source": [
        "Since there are a *lot* of example sentences and we want to train\n",
        "something quickly, we'll trim the data set to only relatively short and\n",
        "simple sentences and we will avoid explicit questions. Hence we will set a maximum sentence length of 10 words (that includes punctuation) and remove questions.\n",
        "\n"
      ]
    },
    {
      "cell_type": "code",
      "source": [
        "import pandas as pd"
      ],
      "metadata": {
        "id": "x0XuxKM6USyB"
      },
      "execution_count": 7,
      "outputs": []
    },
    {
      "cell_type": "code",
      "execution_count": 8,
      "metadata": {
        "id": "sSAya9DovGMk"
      },
      "outputs": [],
      "source": [
        "MAX_WORDS = 10\n",
        "\n",
        "interrogative_words = ( \"what\", \"why\", \"how\", \"which\", \"where\", \"when\" , \"who\", \"whose\",\n",
        "                        \"was\", \"warum\", \"wie\", \"welche\", \"wo\", \"wann\", \"wer\", \"wieso\")\n",
        "\n",
        "\"\"\"\n",
        "TODO: Task 1 (10 pt)\n",
        "\n",
        "Implement the filter_pairs function so that it takes in a pd.DataFrame of language pairs and outputs another dataframe where following pairs are removed:\n",
        "\n",
        "- those where one of both exceeds the maximal sentence length (MAX_WORDS)\n",
        "- those where the pair contains any of the words defined in interrogative_words or a question mark.\n",
        "\n",
        "Note: your method should NOT employ any explicit iteration (i.e. for loops).\n",
        "\n",
        "\"\"\"\n",
        "def filter_pairs(pairs,\n",
        "                 drop_words=interrogative_words,\n",
        "                 max_words=MAX_WORDS):\n",
        "\n",
        "    # Creating a mask for pairs where neither sentence exceeds the max_words limit\n",
        "    length_mask = (pairs.iloc[:, 0].str.split().str.len() <= max_words) & \\\n",
        "                  (pairs.iloc[:, 1].str.split().str.len() <= max_words)\n",
        "\n",
        "    # Creating a regex pattern for the interrogative words and question marks\n",
        "    pattern = '|'.join(drop_words) + r'|\\?'\n",
        "\n",
        "    # Creating a mask to exclude pairs containing interrogative words or question mark\n",
        "    interrogative_mask = ~(pairs.iloc[:, 0].str.contains(pattern) |\n",
        "                           pairs.iloc[:, 1].str.contains(pattern))\n",
        "\n",
        "    # Applying both masks and return the filtered DataFrame\n",
        "    return pairs[length_mask & interrogative_mask]\n",
        "\n",
        "\n"
      ]
    },
    {
      "cell_type": "markdown",
      "metadata": {
        "id": "0ou8g3IGvGMX"
      },
      "source": [
        "Each word in a language will be represented as a one-hot\n",
        "vector, or giant vector of zeros except for a single one (at the index\n",
        "of the word). Compared to the dozens of characters that might exist in a\n",
        "language, there are many many more words, so the encoding vector is much\n",
        "larger. We will however cheat a bit and trim the data to only use a few\n",
        "thousand words per language."
      ]
    },
    {
      "cell_type": "markdown",
      "metadata": {
        "id": "CfCoiIMHvGMY"
      },
      "source": [
        "We'll need a unique index per word to use as the inputs and targets of\n",
        "the networks later. To keep track of all this we will use a helper class\n",
        "called ``Language`` which has word → index (``word2index``) and index → word\n",
        "(``index2word``) dictionaries, as well as a count of each word\n",
        "``word2count`` which will be used to replace rare words later.\n",
        "\n",
        "\n"
      ]
    },
    {
      "cell_type": "code",
      "execution_count": 9,
      "metadata": {
        "id": "yfuEobYvvGMb"
      },
      "outputs": [],
      "source": [
        "SOS_token = 0\n",
        "EOS_token = 1\n",
        "\n",
        "\"\"\"\n",
        "TODO: Task 2 (10 pt)\n",
        "\n",
        "Implement the function remove_rare_words, that removes words whose frequency is below\n",
        "min_freq and makes sure that the size of the vocabulary is below max_vocab_size\n",
        "by iteratively removing least frequent words.\n",
        "\n",
        "The function should also update the indices in the dictionary, so that no index\n",
        "is left unused (i.e. all values from 0 to n_words are indices) and all variables are up-to-date.\n",
        "\n",
        "You might want to define a helper method remove_word to break down the task.\n",
        "\n",
        "\"\"\"\n",
        "\n",
        "\n",
        "class Language:\n",
        "    def __init__(self):\n",
        "        self.word2index = {} # maps word to integer index\n",
        "        self.word2count = {} # maps word to its frequency\n",
        "        self.index2word = {0: \"SOS\", 1: \"EOS\"} # maps index to a word\n",
        "        self.n_words = 2  # Count SOS and EOS\n",
        "\n",
        "    def add_sentence(self, sentence):\n",
        "        for word in sentence.split(' '):\n",
        "            self.add_word(word)\n",
        "\n",
        "    def add_word(self, word):\n",
        "        if word not in self.word2index:\n",
        "            self.word2index[word] = self.n_words\n",
        "            self.word2count[word] = 1\n",
        "            self.index2word[self.n_words] = word\n",
        "            self.n_words += 1\n",
        "        else:\n",
        "            self.word2count[word] += 1\n",
        "\n",
        "    # Defining a helper method as suggested in the question to remove the words and update the index\n",
        "    def remove_word(self, word):\n",
        "        if word in self.word2index:\n",
        "            # Remove word from word2index and word2count\n",
        "            del self.word2index[word]\n",
        "            del self.word2count[word]\n",
        "\n",
        "            # Rebuild index2word\n",
        "            self.index2word = {0: \"SOS\", 1: \"EOS\"}\n",
        "            for w in self.word2index:\n",
        "                self.index2word[self.word2index[w]] = w\n",
        "\n",
        "    def remove_rare_words(self, min_freq, max_vocab_size):\n",
        "        # Remove words with frequency below min_freq\n",
        "        for word, count in list(self.word2count.items()):\n",
        "            if count < min_freq:\n",
        "                self.remove_word(word)\n",
        "\n",
        "        # If vocab size exceeds max_vocab_size, remove least frequent words\n",
        "        while len(self.word2index) > max_vocab_size:\n",
        "            # Find the least frequent word\n",
        "            least_freq_word = min(self.word2count, key=self.word2count.get)\n",
        "            self.remove_word(least_freq_word)\n",
        "\n",
        "        # Update n_words (view this later)\n",
        "        self.n_words = len(self.word2index)\n"
      ]
    },
    {
      "cell_type": "markdown",
      "metadata": {
        "id": "EyGhDql9vGMl"
      },
      "source": [
        "The full process for preparing the data is:\n",
        "\n",
        "-  Read text file and split into lines, split lines into pairs\n",
        "-  Normalize text, filter by length and content\n",
        "-  Make word lists from sentences in pairs\n",
        "\n",
        "\n"
      ]
    },
    {
      "cell_type": "code",
      "execution_count": 10,
      "metadata": {
        "id": "O5LZIJ9yvGMl"
      },
      "outputs": [],
      "source": [
        "def prepare_data(pairs, reverse=False):\n",
        "\n",
        "    print(f\"Read {len(pairs)} sentence pairs\")\n",
        "    pairs = filter_pairs(pairs)\n",
        "    print(f\"Filtered {len(pairs)} sentence pairs\")\n",
        "    pairs = pairs.to_numpy()\n",
        "\n",
        "    input_lang = Language()\n",
        "    output_lang = Language()\n",
        "\n",
        "    for pair in pairs:\n",
        "        input_lang.add_sentence(pair[0])\n",
        "        output_lang.add_sentence(pair[1])\n",
        "\n",
        "    print(f\"Input language: {input_lang.n_words} words\")\n",
        "    print(f\"Output language: {output_lang.n_words} words\")\n",
        "    return input_lang, output_lang, pairs\n",
        "\n"
      ]
    },
    {
      "cell_type": "code",
      "execution_count": 11,
      "metadata": {
        "id": "jbk2zhTfS22A",
        "colab": {
          "base_uri": "https://localhost:8080/"
        },
        "outputId": "1451621d-8e4c-4abc-e518-5e798f23572c"
      },
      "outputs": [
        {
          "output_type": "stream",
          "name": "stdout",
          "text": [
            "Read 255817 sentence pairs\n",
            "Filtered 131442 sentence pairs\n",
            "Input language: 12521 words\n",
            "Output language: 24253 words\n"
          ]
        }
      ],
      "source": [
        "#path = os.path.join(os.getcwd(), \"data\", \"translations.csv\")\n",
        "\n",
        "#changing this slightly since I'm working in Google Colab\n",
        "path = \"https://raw.githubusercontent.com/Hertie-School-Deep-Learning-Fall-2023/problem-set-3-ps3_group_g/main/data/translations.csv\"\n",
        "pairs = parse_data(path)\n",
        "input_lang, output_lang, pairs = prepare_data(pairs, reverse=True)\n",
        "### SHOW NOTEBOOK OUTPUT ###"
      ]
    },
    {
      "cell_type": "markdown",
      "metadata": {
        "id": "dWT9l3A0vGMl"
      },
      "source": [
        "## Encoder-decoders\n",
        "\n",
        "A Recurrent Neural Network, or RNN, is a network that operates on a\n",
        "sequence and uses its own output as input for subsequent steps.\n",
        "\n",
        "A [Sequence to Sequence network](https://arxiv.org/abs/1409.3215)_, or\n",
        "seq2seq network, or [Encoder Decoder\n",
        "network](https://arxiv.org/pdf/1406.1078v3.pdf)_, is a model\n",
        "consisting of two RNNs called the encoder and decoder. The encoder reads\n",
        "an input sequence and outputs a single vector, and the decoder reads\n",
        "that vector to produce an output sequence.\n",
        "\n",
        "Unlike sequence prediction with a single RNN, where every input\n",
        "corresponds to an output, the seq2seq model frees us from sequence\n",
        "length and order, which makes it ideal for translation between two\n",
        "languages, because there usally is not a 1:1 mapping between words.\n"
      ]
    },
    {
      "cell_type": "markdown",
      "metadata": {
        "id": "aQdvPf6cvGMn"
      },
      "source": [
        "### The Encoder\n",
        "\n",
        "The encoder of a seq2seq network is a RNN that outputs some value for\n",
        "every word from the input sentence. For every input word the encoder\n",
        "outputs a vector and a hidden state, and uses the hidden state for the\n",
        "next input word."
      ]
    },
    {
      "cell_type": "code",
      "source": [
        "from PIL import Image\n",
        "import requests\n",
        "url = 'https://raw.githubusercontent.com/Hertie-School-Deep-Learning-Fall-2023/problem-set-3-ps3_group_g/main/img/encoder.png'\n",
        "im = Image.open(requests.get(url, stream=True).raw)\n",
        "im"
      ],
      "metadata": {
        "id": "-aKWof4tp8uq",
        "colab": {
          "base_uri": "https://localhost:8080/",
          "height": 1000
        },
        "outputId": "cf6ee719-c44e-4878-952b-31087e83fc70"
      },
      "execution_count": 12,
      "outputs": [
        {
          "output_type": "execute_result",
          "data": {
            "text/plain": [
              "<PIL.PngImagePlugin.PngImageFile image mode=RGBA size=1301x1026>"
            ],
            "image/png": "[encoded data removed]"
          },
          "metadata": {},
          "execution_count": 12
        }
      ]
    },
    {
      "cell_type": "code",
      "execution_count": 13,
      "metadata": {
        "id": "UKk5mcDYvGMn"
      },
      "outputs": [],
      "source": [
        "class EncoderRNN(nn.Module):\n",
        "    def __init__(self, input_size, hidden_size, rnn_type='GRU', batch_size=1):\n",
        "        super().__init__()\n",
        "        self.hidden_size = hidden_size\n",
        "        self.batch_size = batch_size\n",
        "        self.rnn_type = rnn_type\n",
        "\n",
        "        self.embedding = nn.Embedding(input_size, hidden_size) #produces a list of vect\n",
        "        self.rnn = getattr(nn, rnn_type)(self.hidden_size, self.hidden_size)\n",
        "\n",
        "    def forward(self, input, hidden):\n",
        "        embedded = self.embedding(input).view(1, 1, -1) # translates input (series of indices for the respective words) into their vector representation\n",
        "        output, hidden = self.rnn(embedded, hidden)\n",
        "        return output, hidden\n",
        "\n",
        "    def init_hidden(self):\n",
        "        return torch.zeros(1, self.batch_size, self.hidden_size, device=device)"
      ]
    },
    {
      "cell_type": "markdown",
      "metadata": {
        "id": "oMmcFTutVDVM"
      },
      "source": [
        "Although all encoders must have certain distinctive features to be called as such, as for example the ability to process sequences of different length returning fixed-length hidden states, it is not required for them to have a recurrent structure. In fact, most state-of-the art NLP models use transformer layers, combining attention layers with feed-forward network for a higher parallelizability. Because transformer layers process information in parallel, they have no inherent mechanisms that makes them aware of the position of the word in the sentence and need to engineer a feature that encodes that information."
      ]
    },
    {
      "cell_type": "code",
      "execution_count": 14,
      "metadata": {
        "id": "SbA-XuPSN3QQ"
      },
      "outputs": [],
      "source": [
        "\"\"\"\n",
        "TODO: Task 3 (10 pt)\n",
        "\n",
        "Implement a positional encoding module for an alternative encoder using transformers.\n",
        "The positional encoder should create a vector of size max_length containing the\n",
        "discrete values of a function f(x) applied on the even features of the input\n",
        "and g(x) applied on the odd features of the input.\n",
        "f(x) should be defaulted to sine, g(x) to cosine.\n",
        "Their value should be scaled by div_term.\n",
        "\n",
        "Briefly describe (3-4 sentences):\n",
        "\n",
        "- why sinusoidal are used by default\n",
        "- how div_term impacts the encoding\n",
        "- which characteristics would make a function a suitable\n",
        "  alternative to sinusoidals.\n",
        "\n",
        "Note: you are not expected to train the TransformerEncoder (this will most likely\n",
        "not work due to incompatibility with the train method). Simply show you can initialize\n",
        "the encoder and pass a tensor through it.\n",
        "\n",
        "Why Sinusoidal Functions are Often Used:\n",
        "We usually use sine and cosine functions for positional encoding because they're good at giving each word position a unique pattern. This helps the model to figure out where each word is in a sentence. Plus, these functions have a repeating cycle, so the model can learn about the order of words relative to each other.\n",
        "How div_term Affects the Encoding:\n",
        "The div_term in the formula makes the wave of the sine and cosine functions longer or shorter. This helps the model to not get too confused by making sure the position information isn't too squished or stretched out. It's like adjusting the zoom on a camera to get a clearer picture.\n",
        "What Would Make a Good Alternative to Sinusoidals:\n",
        "If we're not using sine and cosine functions, we still need something that gives each position a special pattern so the model can tell them apart. A good alternative should help the model see the difference between positions and understand the order of words. It should have a regular pattern, like how every day follows the night, to help the model predict and learn better.\n",
        "\n",
        "\n",
        "\"\"\"\n",
        "\n",
        "\n",
        "class PositionalEncoding(nn.Module):\n",
        "    def __init__(self, hidden_size, max_length, even_fc=torch.sin, odd_fc=torch.cos):\n",
        "        super(PositionalEncoding, self).__init__()\n",
        "        self.hidden_size = hidden_size\n",
        "\n",
        "        # Create a positional encoding matrix of size (max_length, hidden_size)\n",
        "        position = torch.arange(max_length).unsqueeze(1)\n",
        "        div_term = torch.exp(torch.arange(0, hidden_size, 2).float() * (-math.log(10000.0) / hidden_size))\n",
        "\n",
        "        pe = torch.zeros(max_length, hidden_size)\n",
        "        pe[:, 0::2] = even_fc(position.float() * div_term)\n",
        "        pe[:, 1::2] = odd_fc(position.float() * div_term)\n",
        "\n",
        "        self.register_buffer('pe', pe)\n",
        "\n",
        "    def forward(self, x):\n",
        "        x = x + self.pe[:x.size(0)]\n",
        "        return x\n",
        "\n",
        "class TransformerEncoder(nn.Module):\n",
        "\n",
        "    def __init__(self, input_size, hidden_size, max_length=MAX_WORDS, batch_size=1):\n",
        "\n",
        "        super().__init__()\n",
        "        self.hidden_size = hidden_size\n",
        "        self.batch_size = batch_size\n",
        "\n",
        "        self.embedding = nn.Embedding(input_size, hidden_size)\n",
        "        self.positional_encoding = PositionalEncoding(hidden_size, max_length)\n",
        "        self.transformer_layers = nn.TransformerEncoderLayer(hidden_size, nhead=4)\n",
        "        self.transformer_encoder = nn.TransformerEncoder(self.transformer_layers, num_layers=6)\n",
        "        self.fc = nn.Linear(hidden_size, hidden_size)\n",
        "\n",
        "    def forward(self, input, positional_encoding=False):\n",
        "\n",
        "\n",
        "        embedded = self.embedding(input) # translates input (series of indices for the respective words) into their vector representation\n",
        "\n",
        "        # If true, applies positional encoding\n",
        "        if positional_encoding:\n",
        "            embedded = self.positional_encoding(embedded).view(1, 1, -1)\n",
        "\n",
        "        # Transformer encoder layers\n",
        "        transformer_output = self.transformer_encoder(embedded)\n",
        "\n",
        "        # Fully connected layer\n",
        "        output = self.fc(transformer_output)\n",
        "\n",
        "        return output\n",
        "\n",
        "def tensorFromSentence(lang, sentence):\n",
        "    indexes = [lang.word2index[word] for word in sentence.split(' ')]\n",
        "    indexes.append(EOS_token) # Append the EOS token\n",
        "    return torch.tensor(indexes, dtype=torch.long).view(-1, 1)"
      ]
    },
    {
      "cell_type": "code",
      "execution_count": 15,
      "metadata": {
        "id": "0LaYNUAdS22C",
        "colab": {
          "base_uri": "https://localhost:8080/"
        },
        "outputId": "b02f8041-7cbe-4f47-86d7-ce045f23404d"
      },
      "outputs": [
        {
          "output_type": "stream",
          "name": "stderr",
          "text": [
            "/usr/local/lib/python3.10/dist-packages/torch/nn/modules/transformer.py:282: UserWarning: enable_nested_tensor is True, but self.use_nested_tensor is False because encoder_layer.self_attn.batch_first was not True(use batch_first for better inference performance)\n",
            "  warnings.warn(f\"enable_nested_tensor is True, but self.use_nested_tensor is False because {why_not_sparsity_fast_path}\")\n"
          ]
        },
        {
          "output_type": "execute_result",
          "data": {
            "text/plain": [
              "tensor([[[ 0.0899, -0.0192,  0.1785, -0.3771, -0.3685,  0.1219,  0.8854,\n",
              "           0.4681,  0.7331,  0.6986, -0.0752,  0.0400, -0.0086,  0.2150,\n",
              "           0.0988, -0.0988, -0.8418, -0.5793, -0.0389, -0.0191, -0.0502,\n",
              "          -1.0407, -0.1225, -0.4937,  0.1865,  0.4355, -0.1942,  0.4886,\n",
              "          -0.5888, -0.7041, -0.2997,  0.1295, -0.5818,  0.2352, -0.0978,\n",
              "           0.1999, -0.0867,  0.4909,  0.3370,  0.4541,  0.2744, -0.0670,\n",
              "           0.6240,  0.0923, -0.3029, -0.3661, -0.1850,  0.0633,  0.8237,\n",
              "           0.3813, -0.3206, -0.0595, -0.3759, -0.4157, -0.3368, -0.5355,\n",
              "           0.8508,  0.1108, -0.6886,  0.5433, -0.5056, -1.0668,  0.8625,\n",
              "           0.1300, -0.3068, -0.0123,  0.1617,  0.2137, -0.7817,  0.3143,\n",
              "           0.0212, -0.3874, -0.7394,  0.1785,  0.4611, -0.4137,  0.7325,\n",
              "           0.4428, -0.7137, -0.7961, -0.3046,  0.0754, -0.1152,  0.5752,\n",
              "          -0.4133, -0.3086,  0.0812, -1.0749, -0.4434, -0.6328,  0.4144,\n",
              "           0.5802,  0.6436, -0.3659, -0.7185,  0.0251,  1.0925, -0.3711,\n",
              "          -0.4569, -0.0522,  0.3222, -0.5155, -0.3718, -0.1071, -0.6379,\n",
              "          -0.3585, -0.5705, -0.4575,  0.9422,  0.7624,  0.4061, -0.1652,\n",
              "           0.2050,  0.1738, -0.0927, -0.0232,  0.2202,  0.2072,  0.5713,\n",
              "           0.7065,  0.4656,  0.3077, -0.2163,  1.5354,  0.4874,  0.2965,\n",
              "          -0.7589,  0.1748,  0.3062,  0.6132, -0.1969, -0.4915, -1.2299,\n",
              "           0.0549,  0.1888, -0.2661,  0.2538,  0.4194, -0.2364,  0.3138,\n",
              "          -0.9231, -1.1543, -0.0045,  0.3137, -1.3096, -0.0127,  0.4048,\n",
              "           0.4232, -1.6949, -0.1282,  0.0337, -0.4181,  0.4450, -0.0537,\n",
              "          -0.5043, -0.1483, -0.2258,  0.8652,  0.3964,  0.8164,  0.4738,\n",
              "           0.6220,  0.4468,  0.0180, -0.2850, -0.3213,  0.5428, -0.5742,\n",
              "           0.1608, -0.0405,  0.6981,  0.5498, -0.5820,  1.0671, -0.9067,\n",
              "           0.2089, -0.8576,  0.3303, -0.1867,  0.8848,  1.0325, -0.2209,\n",
              "          -0.2110, -0.3557, -0.5259, -0.3470,  0.7621,  0.5617, -0.7738,\n",
              "           0.1551, -0.6587, -0.6621, -0.1839,  1.1497, -1.2723,  0.1758,\n",
              "          -0.0338, -0.6174,  0.1939, -0.5092, -0.3722,  0.6583, -0.7264,\n",
              "          -0.0220, -0.0542,  0.1289, -0.4930,  0.3965, -0.2998, -0.4928,\n",
              "           0.3067, -0.5791,  0.1729,  0.7664,  0.4720,  0.0103,  0.3836,\n",
              "           0.7573,  0.9215, -0.3043,  0.3656,  0.4200, -0.0842,  0.4758,\n",
              "          -0.5386,  0.3564, -0.1386, -0.5717,  1.3530, -0.1924, -0.1934,\n",
              "           0.6665,  0.0709, -0.6917,  0.1694, -0.0247, -0.1350,  0.6048,\n",
              "           0.4158,  0.2893, -0.2804, -0.2592,  0.1064,  0.6260,  0.4787,\n",
              "          -0.1974,  0.5283,  0.4083, -0.3898, -0.0073,  0.0623, -0.2586,\n",
              "          -0.2786,  0.1959, -0.3405, -0.9027]],\n",
              "\n",
              "        [[ 0.0031,  0.0320,  0.7305, -0.9098,  0.0444,  0.2906,  0.8269,\n",
              "           0.2937,  0.9848,  0.6670,  0.2679,  0.4106, -0.0040,  0.2787,\n",
              "           0.5146, -0.2086, -0.6855, -0.4886, -0.5801,  0.1541, -0.0075,\n",
              "          -0.7046, -0.1406, -0.2234,  0.1490,  0.3863, -0.0775,  0.0940,\n",
              "          -0.4623, -0.1731, -0.0585, -0.0086, -0.6500,  0.2122,  0.0469,\n",
              "           0.0512,  0.4683, -0.0686,  0.8910,  0.2278,  0.2938, -0.3152,\n",
              "           0.0917,  0.2885,  0.2499,  0.1244,  0.1003, -0.1817,  0.3947,\n",
              "           0.8476, -0.2011, -0.0461, -0.4625, -0.2768,  0.1323, -0.9366,\n",
              "           1.1046,  0.1567, -0.4733,  0.9576, -0.3298, -1.2086,  1.1350,\n",
              "           0.0099, -0.0996,  0.3262,  0.4545, -0.7106, -0.4116,  0.3664,\n",
              "           0.7129, -0.5389, -0.2359,  0.3189,  0.6754,  0.3614,  0.4739,\n",
              "          -0.2711, -0.5397, -0.7866, -0.6064,  0.5132, -0.2314,  1.1460,\n",
              "          -0.0650,  0.0257,  0.3195, -1.1132,  0.0828, -0.3351,  0.7163,\n",
              "           0.3825,  0.2112, -1.4093, -0.5493,  0.1797,  1.1438, -0.1104,\n",
              "           0.0685, -0.3908,  0.1872, -0.4218, -1.2622,  0.6846, -0.2587,\n",
              "           0.0553, -0.5412, -0.3218,  0.2359,  0.5091, -0.1341,  0.3001,\n",
              "          -0.2645, -0.0717, -0.1305, -0.5070,  0.0604,  0.3730,  0.7500,\n",
              "           0.4398,  0.7904,  0.5740, -0.6939,  0.7743, -0.2102,  0.6182,\n",
              "          -0.4496, -0.4339,  0.5195, -0.2205, -0.2772, -0.5061, -0.4323,\n",
              "          -0.5864,  0.1467, -0.1809,  0.2663,  0.4785,  0.1195,  0.5826,\n",
              "          -1.1241, -1.5646,  0.5495,  0.0163,  0.1029,  0.7323,  0.2774,\n",
              "          -0.0771, -1.6694, -0.3526, -0.3205, -0.3150,  0.2208, -0.0727,\n",
              "          -0.0867, -0.3615,  0.2323,  1.4225,  0.7442,  0.9358,  0.3606,\n",
              "           0.3238,  0.9144, -0.2364,  0.0155, -0.4673,  0.6315, -0.8655,\n",
              "          -0.5150, -0.2006,  0.6856, -0.4350, -0.4143,  0.6709, -0.2411,\n",
              "           0.5924, -0.7421,  0.5231, -0.6753,  0.3467,  1.2195, -0.1939,\n",
              "          -0.5859, -0.0979, -0.4643, -0.1576,  0.5673,  0.5453, -0.8330,\n",
              "           0.1325, -0.0564, -0.6809, -0.2857,  0.5715, -1.1512,  0.3476,\n",
              "           0.0581, -0.5076, -0.2727, -0.0100,  0.1226,  0.1359, -0.2394,\n",
              "          -0.3201, -0.4572, -0.6223, -1.0566,  1.0444,  0.0257, -0.2300,\n",
              "           0.2103, -0.8264, -0.0646,  0.4247,  0.4655,  0.2054,  0.1347,\n",
              "           0.4270,  0.7796, -0.1626,  0.4710,  0.2983,  0.2169, -0.2022,\n",
              "          -0.2738,  0.5090, -0.5750, -0.5482,  1.1434,  0.1676,  0.5797,\n",
              "           0.7866,  0.2479, -0.8421,  0.3037,  0.4327,  0.2951,  1.0179,\n",
              "           0.1031, -0.3695, -0.0601, -0.1911,  0.2367,  0.6281,  0.4894,\n",
              "           0.2619,  0.8943, -0.1225, -0.2570,  0.4675,  0.1833, -0.0664,\n",
              "           0.0973, -0.0380, -0.8996, -0.6794]],\n",
              "\n",
              "        [[-0.0522,  0.1052,  0.5213, -0.4192, -0.1175, -0.0716,  1.0361,\n",
              "           0.6423,  0.8212,  0.2336,  0.0843,  0.4246, -0.1773,  0.2091,\n",
              "          -0.0627, -0.0232, -0.4847, -0.6199, -0.7159,  0.5638, -0.1125,\n",
              "          -0.5170, -0.2386, -0.5043,  0.3874,  0.3294, -0.2890,  0.4784,\n",
              "          -0.4898, -0.8106, -0.5743,  0.3769, -0.8442,  0.3508,  0.2361,\n",
              "           0.0128,  0.4778, -0.1772,  0.8369,  0.2649,  0.0964, -0.2469,\n",
              "          -0.6002,  0.3860, -0.1713, -0.2669,  0.3935,  0.3618, -0.0860,\n",
              "           0.8641,  0.0569, -0.0383, -0.5597, -0.0301, -0.3179, -0.9577,\n",
              "           0.8494, -0.0337, -0.3963,  0.9696, -0.2340, -1.2654,  0.8595,\n",
              "          -0.5454, -0.1529, -0.0113, -0.2437, -0.2497, -0.6585,  0.2846,\n",
              "           0.4648, -0.4601,  0.0359,  0.2156, -0.0746, -0.0297,  0.4425,\n",
              "          -0.4371, -0.5860, -0.8491, -0.5106,  0.5466, -0.0094,  1.0715,\n",
              "          -0.2853, -0.0125,  0.0356, -0.6330, -0.0165, -0.5324,  0.7596,\n",
              "           0.3753,  0.8115, -1.0610, -0.4214,  0.1227,  0.7719, -0.5257,\n",
              "          -1.0290, -0.5076,  0.2734, -0.0072, -0.9460,  0.1807, -0.7084,\n",
              "           0.1556,  0.1180, -0.9099,  0.6629,  0.7135,  0.2813,  0.0321,\n",
              "          -0.1154, -0.0554, -0.0281, -0.3797,  0.1389,  0.8278,  0.0530,\n",
              "           0.7625,  0.3690,  0.8849, -0.2023,  0.8222, -0.1783,  0.1495,\n",
              "          -0.7742, -0.6123, -0.5199,  0.3285, -0.2775, -0.4678, -0.7874,\n",
              "          -0.6458,  0.2061, -0.9803,  0.3698,  0.7701, -0.4420,  0.7689,\n",
              "          -1.0146, -0.8828, -0.1546,  0.1226, -0.6788,  0.1439,  0.5588,\n",
              "           0.4344, -1.1037, -0.3192, -0.2381,  0.1962, -0.0610, -0.2021,\n",
              "           0.3464, -0.3708,  0.2589,  1.0822,  0.5242, -0.0644,  0.6896,\n",
              "           0.5611,  0.7904,  0.2419, -0.1165,  0.0024,  0.5661, -0.2181,\n",
              "          -0.1204,  0.1067,  0.5082, -0.1688, -0.1149,  0.4711, -0.7896,\n",
              "           0.4691, -0.7825,  0.1546, -0.6676,  0.5984,  1.4646,  0.3917,\n",
              "          -0.6956, -0.1944, -0.6991, -0.0490,  0.3610,  0.9742, -0.4701,\n",
              "          -0.0689,  0.1975, -0.4643, -0.2633,  0.8646, -0.7882,  0.1337,\n",
              "          -0.3176, -0.4476, -0.1887, -0.1090,  0.4488, -0.1438, -0.8722,\n",
              "          -0.1095,  0.0900, -0.2198, -0.5798,  0.8515, -0.2288, -0.6926,\n",
              "           0.0509, -0.5399,  0.5377,  0.8388,  0.8787,  0.5310, -0.1852,\n",
              "           0.3133,  0.0787, -0.3430,  0.6944,  0.4452,  0.0679, -0.0705,\n",
              "          -0.0409,  0.6813, -0.7703, -0.5422,  1.5604, -0.2173,  0.4229,\n",
              "           0.8023,  0.0143, -0.4415, -0.0690,  0.0105, -0.0399,  0.3690,\n",
              "           0.3873, -0.1613, -0.5832, -0.0977,  0.0427,  0.4737,  0.1829,\n",
              "           0.1185,  0.1548, -0.1401, -0.3439,  0.6901, -0.2248, -0.2157,\n",
              "          -0.8116,  0.3611, -0.5651, -1.0267]]], grad_fn=<ViewBackward0>)"
            ]
          },
          "metadata": {},
          "execution_count": 15
        }
      ],
      "source": [
        "attn_encoder = TransformerEncoder(input_lang.n_words, 256)\n",
        "input = tensorFromSentence(input_lang, pairs[0][0])\n",
        "attn_encoder(input)\n",
        "### SHOW NOTEBOOK OUTPUT ###"
      ]
    },
    {
      "cell_type": "markdown",
      "metadata": {
        "id": "IUCEEzEsvGMn"
      },
      "source": [
        "### The Decoder\n",
        "\n",
        "The decoder is another RNN that takes the encoder output vector(s) and\n",
        "outputs a sequence of words to create the translation.\n",
        "\n",
        "\n"
      ]
    },
    {
      "cell_type": "markdown",
      "metadata": {
        "id": "Und7tPLIvGMn"
      },
      "source": [
        "#### Attention Decoder\n",
        "\n",
        "\n",
        "Attention allows the decoder network to \"focus\" on a different part of the encoder's outputs for every step of the decoder's own outputs.\n",
        "For this, we determine a set of attention weights which capture which part of the sentence is most important for the translation.\n",
        "The attention weights will be multiplied by the encoder output vectors to create a weighted combination.\n",
        "The result should contain information about that specific part of the input sequence, and thus help the decoder choose the right output words.\n",
        "\n",
        "Specifically, this is done as follows:\n",
        "1. Attention weights are calculated with a feed-forward layer (`self.attn`) using the concatenated decoder's input and hidden state as inputs and appying a softmax to it.\n",
        "   * Because there are sentences of all sizes in the training data, to actually create and train this layer we have to choose a maximum sentence length (input length, for encoder outputs) that it can apply to. Sentences of the maximum length will use all the attention weights, while shorter sentences will only use the first few.\n",
        "1. The attention weights will be multiplied by the encoder output vectors to create a weighted combination (using `torch.bmm()`).\n",
        "1. The encoder outputs weighted by the attention weights are concatenated (use `torch.cat`) with the decoder's embeddings and fed into another feed-forward layer (`self.attn_combine`).\n",
        "1. ReLu is applied on the output of the attention module.\n",
        "\n"
      ]
    },
    {
      "cell_type": "code",
      "execution_count": 16,
      "metadata": {
        "id": "8PwdF09yvGMo",
        "colab": {
          "base_uri": "https://localhost:8080/",
          "height": 1000
        },
        "outputId": "9e35fabd-54cf-402a-bd34-a02a22b623c4"
      },
      "outputs": [
        {
          "output_type": "execute_result",
          "data": {
            "text/plain": [
              "<PIL.PngImagePlugin.PngImageFile image mode=RGBA size=1934x2965>"
            ],
            "image/png": "[encoded data removed]"
          },
          "metadata": {},
          "execution_count": 16
        }
      ],
      "source": [
        "#Image(filename=\"img/decoder.png\", height=900)\n",
        "\n",
        "#changing this slightly since I'm in Google Colab\n",
        "#Image(filename=\"decoder.png\", height=900)\n",
        "\n",
        "url = 'https://raw.githubusercontent.com/Hertie-School-Deep-Learning-Fall-2023/problem-set-3-ps3_group_g/main/img/decoder.png'\n",
        "im = Image.open(requests.get(url, stream=True).raw)\n",
        "im"
      ]
    },
    {
      "cell_type": "code",
      "execution_count": 17,
      "metadata": {
        "id": "7jQT5UPnvGMo"
      },
      "outputs": [],
      "source": [
        "\"\"\"\n",
        "TODO: Task 4 (10 pt)\n",
        "Implement the attention layer as described above and depicted in the figure.\n",
        "\n",
        "Show the train progress (3-5 min) when using the decoder with attention on the translation task (see \"Pre-trained GRU seq2seq model\" section below).\n",
        "\n",
        "\"\"\"\n",
        "\n",
        "class Attention(nn.Module):\n",
        "    def __init__(self, hidden_size, max_length):\n",
        "        super(Attention, self).__init__()\n",
        "        self.hidden_size = hidden_size\n",
        "        self.max_length = max_length\n",
        "\n",
        "        # Define layers for the attention mechanism\n",
        "        self.attn = nn.Linear(self.hidden_size * 2, self.max_length)\n",
        "        self.attn_combine = nn.Linear(self.hidden_size * 2, self.hidden_size)\n",
        "        self.softmax = nn.Softmax(dim=1)\n",
        "        self.tanh = nn.Tanh()\n",
        "\n",
        "    def forward(self, embedded, hidden, encoder_outputs):\n",
        "        # Concatenate embedded input word and hidden state\n",
        "        combined = torch.cat((embedded[0], hidden[0]), 1)\n",
        "\n",
        "        # Attention weights\n",
        "        attn_weights = self.softmax(self.attn(combined))\n",
        "\n",
        "        # Apply attention weights to encoder outputs\n",
        "        attn_applied = torch.bmm(attn_weights.unsqueeze(0),\n",
        "                                 encoder_outputs.unsqueeze(0))\n",
        "\n",
        "        # Combine attention applied outputs with embedded input word\n",
        "        output = self.attn_combine(torch.cat((attn_applied[0], embedded[0]), 1)).unsqueeze(0)\n",
        "        output = self.tanh(output)\n",
        "\n",
        "        return output\n",
        "\n",
        "\n"
      ]
    },
    {
      "cell_type": "code",
      "execution_count": 18,
      "metadata": {
        "id": "8c9yw5kE5oif"
      },
      "outputs": [],
      "source": [
        "class AttnDecoderRNN(nn.Module):\n",
        "    def __init__(self, hidden_size, output_size, dropout_p=0.1, rnn_type='GRU', rnn_n_layers=1, batch_size=1, max_length=MAX_WORDS+1):\n",
        "        super().__init__()\n",
        "        self.hidden_size = hidden_size\n",
        "        self.output_size = output_size\n",
        "        self.dropout_p = dropout_p\n",
        "        self.max_length = max_length\n",
        "        self.rnn_type = rnn_type\n",
        "        self.rnn_n_layers = rnn_n_layers\n",
        "        self.batch_size = batch_size\n",
        "\n",
        "        self.embedding = nn.Embedding(self.output_size, self.hidden_size)\n",
        "        self.dropout = nn.Dropout(self.dropout_p)\n",
        "        self.attention = Attention(self.hidden_size, self.max_length)\n",
        "        self.rnn = getattr(nn, self.rnn_type)(self.hidden_size, self.hidden_size, self.rnn_n_layers)\n",
        "        self.out = nn.Linear(self.hidden_size, self.output_size)\n",
        "\n",
        "    def forward(self, input, hidden, encoder_outputs):\n",
        "        c0 = self.init_hidden()\n",
        "        # h0 = self.init_hidden() # reuse hidden state of LSTM/GRU cell or reinitialize?\n",
        "\n",
        "        embedded = self.embedding(input).view(1, 1, -1)\n",
        "        embedded = self.dropout(embedded)\n",
        "        if self.rnn_type == 'LSTM':\n",
        "            attn_hidden = hidden[0] # only hidden, not cell state\n",
        "        else:\n",
        "            attn_hidden = hidden # GRU has no cell state\n",
        "\n",
        "        output = self.attention(embedded, attn_hidden, encoder_outputs)\n",
        "        output, hidden = self.rnn(output, hidden)\n",
        "        output = self.out(output[0])\n",
        "        output = F.log_softmax(output, dim=1)\n",
        "\n",
        "        return output, hidden\n",
        "\n",
        "    def init_hidden(self):\n",
        "        weights = torch.zeros(self.rnn_n_layers, self.batch_size, self.hidden_size, device=device)\n",
        "        return (weights, weights) if self.rnn_type == 'LSTM' else weights"
      ]
    },
    {
      "cell_type": "markdown",
      "metadata": {
        "id": "0XTWdb-uvGMp"
      },
      "source": [
        "\n",
        "# Training\n",
        "\n",
        "### Preparing Training Data\n",
        "\n",
        "To train, for each pair we will need an input tensor (indexes of the\n",
        "words in the input sentence) and target tensor (indexes of the words in\n",
        "the target sentence). While creating these vectors we will append the\n",
        "EOS token to both sequences.\n",
        "\n",
        "\n"
      ]
    },
    {
      "cell_type": "code",
      "execution_count": 19,
      "metadata": {
        "id": "4bSmXByOvGMp"
      },
      "outputs": [],
      "source": [
        "def indexesFromSentence(lang, sentence):\n",
        "    return [lang.word2index[word] for word in sentence.split(' ')]\n",
        "\n",
        "def tensorFromSentence(lang, sentence):\n",
        "    indexes = indexesFromSentence(lang, sentence)\n",
        "    indexes.append(EOS_token)\n",
        "    return torch.tensor(indexes, dtype=torch.long, device=device).view(-1, 1)\n",
        "\n",
        "def tensorsFromPair(pair):\n",
        "    input_tensor = tensorFromSentence(input_lang, pair[0])\n",
        "    target_tensor = tensorFromSentence(output_lang, pair[1])\n",
        "    return (input_tensor, target_tensor)"
      ]
    },
    {
      "cell_type": "markdown",
      "metadata": {
        "id": "H8tTVtV7vGMq"
      },
      "source": [
        "### Training the Model\n",
        "\n",
        "To train we run the input sentence through the encoder, and keep track\n",
        "of every output and the latest hidden state. Then the decoder is given\n",
        "the `<SOS>` token as its first input, and the last hidden state of the\n",
        "encoder as its first hidden state.\n",
        "\n",
        "\"Teacher forcing\" is the concept of using the real target outputs as\n",
        "each next input, instead of using the decoder's guess as the next input.\n",
        "Using teacher forcing causes it to converge faster but [when the trained\n",
        "network is exploited, it may exhibit\n",
        "instability](http://citeseerx.ist.psu.edu/viewdoc/download?doi=10.1.1.378.4095&rep=rep1&type=pdf).\n",
        "\n",
        "You can observe outputs of teacher-forced networks that read with\n",
        "coherent grammar but wander far from the correct translation -\n",
        "intuitively it has learned to represent the output grammar and can \"pick\n",
        "up\" the meaning once the teacher tells it the first few words, but it\n",
        "has not properly learned how to create the sentence from the translation\n",
        "in the first place.\n",
        "\n",
        "Because of the freedom PyTorch's autograd gives us, we can randomly\n",
        "choose to use teacher forcing or not with a simple if statement. Turn\n",
        "``teacher_forcing_ratio`` up to use more of it.\n",
        "\n",
        "\n"
      ]
    },
    {
      "cell_type": "code",
      "execution_count": 20,
      "metadata": {
        "id": "cRXbgFQnvGMq"
      },
      "outputs": [],
      "source": [
        "teacher_forcing_ratio = 0.5\n",
        "\n",
        "\n",
        "def train(input_tensor, target_tensor, encoder, decoder, encoder_optimizer, decoder_optimizer, criterion, max_length=MAX_WORDS+1):\n",
        "    encoder_hidden = encoder.init_hidden()\n",
        "\n",
        "    encoder_optimizer.zero_grad()\n",
        "    decoder_optimizer.zero_grad()\n",
        "\n",
        "    input_length = input_tensor.size(0)\n",
        "    target_length = target_tensor.size(0)\n",
        "\n",
        "    encoder_outputs = torch.zeros(max_length, encoder.hidden_size, device=device)\n",
        "\n",
        "    loss = 0\n",
        "\n",
        "    for ei in range(input_length):\n",
        "        encoder_output, encoder_hidden = encoder(\n",
        "            input_tensor[ei], encoder_hidden)\n",
        "        encoder_outputs[ei] = encoder_output[0, 0]\n",
        "\n",
        "    decoder_input = torch.tensor([[SOS_token]], device=device)\n",
        "\n",
        "    decoder_hidden = encoder_hidden\n",
        "\n",
        "    use_teacher_forcing = True if random.random() < teacher_forcing_ratio else False\n",
        "\n",
        "    if use_teacher_forcing:\n",
        "        # Teacher forcing: Feed the target as the next input\n",
        "        for di in range(target_length):\n",
        "            decoder_output, decoder_hidden = decoder(\n",
        "                decoder_input, decoder_hidden, encoder_outputs)\n",
        "            loss += criterion(decoder_output, target_tensor[di])\n",
        "            decoder_input = target_tensor[di]  # Teacher forcing\n",
        "\n",
        "    else:\n",
        "        # Without teacher forcing: use its own predictions as the next input\n",
        "        for di in range(target_length):\n",
        "            decoder_output, decoder_hidden = decoder(\n",
        "                decoder_input, decoder_hidden, encoder_outputs)\n",
        "            topv, topi = decoder_output.topk(1)\n",
        "            decoder_input = topi.squeeze().detach()  # detach from history as input\n",
        "\n",
        "            loss += criterion(decoder_output, target_tensor[di])\n",
        "            if decoder_input.item() == EOS_token:\n",
        "                break\n",
        "\n",
        "    loss.backward()\n",
        "\n",
        "    encoder_optimizer.step()\n",
        "    decoder_optimizer.step()\n",
        "\n",
        "    return loss.item() / target_length"
      ]
    },
    {
      "cell_type": "markdown",
      "metadata": {
        "id": "j-gYAkcAvGMq"
      },
      "source": [
        "This is a helper function to print time elapsed and estimated time\n",
        "remaining given the current time and progress %.\n",
        "\n",
        "\n"
      ]
    },
    {
      "cell_type": "code",
      "execution_count": 21,
      "metadata": {
        "id": "0ei32eYlvGMr"
      },
      "outputs": [],
      "source": [
        "import time\n",
        "import math\n",
        "\n",
        "def asMinutes(s):\n",
        "    m = math.floor(s / 60)\n",
        "    s -= m * 60\n",
        "    return '%dm %ds' % (m, s)\n",
        "\n",
        "\n",
        "def timeSince(since, percent):\n",
        "    now = time.time()\n",
        "    s = now - since\n",
        "    es = s / (percent)\n",
        "    rs = es - s\n",
        "    return '%s (- %s)' % (asMinutes(s), asMinutes(rs))"
      ]
    },
    {
      "cell_type": "markdown",
      "metadata": {
        "id": "Ai3KWafxvGMr"
      },
      "source": [
        "### Plotting results\n",
        "\n",
        "Plotting is done with matplotlib, using the array of loss values\n",
        "``plot_losses`` saved while training.\n",
        "\n",
        "\n"
      ]
    },
    {
      "cell_type": "code",
      "execution_count": 22,
      "metadata": {
        "id": "UdWdrxmVvGMt"
      },
      "outputs": [],
      "source": [
        "import matplotlib.pyplot as plt\n",
        "plt.switch_backend('agg')\n",
        "import matplotlib.ticker as ticker\n",
        "import numpy as np\n",
        "\n",
        "\n",
        "def showPlot(points):\n",
        "    plt.figure()\n",
        "    fig, ax = plt.subplots()\n",
        "    # this locator puts ticks at regular intervals\n",
        "    loc = ticker.MultipleLocator(base=0.2)\n",
        "    ax.yaxis.set_major_locator(loc)\n",
        "    plt.plot(points)\n",
        "    return fig"
      ]
    },
    {
      "cell_type": "markdown",
      "metadata": {
        "id": "cjaE0v19vGMr"
      },
      "source": [
        "The whole training process looks like this:\n",
        "\n",
        "-  Start a timer\n",
        "-  Initialize optimizers and criterion\n",
        "-  Create set of training pairs\n",
        "-  Start empty losses array for plotting\n",
        "\n",
        "Then we call ``train`` many times and occasionally print the progress (%\n",
        "of examples, time so far, estimated time) and average loss.\n",
        "\n",
        "\n"
      ]
    },
    {
      "cell_type": "code",
      "execution_count": 23,
      "metadata": {
        "id": "XkR7FiesvGMr"
      },
      "outputs": [],
      "source": [
        "def trainIters(encoder, decoder, n_iters, print_every=1000, plot_every=100, learning_rate=0.01):\n",
        "    start = time.time()\n",
        "    plot_losses = []\n",
        "    print_loss_total = 0  # Reset every print_every\n",
        "    plot_loss_total = 0  # Reset every plot_every\n",
        "\n",
        "    encoder_optimizer = optim.SGD(encoder.parameters(), lr=learning_rate)\n",
        "    decoder_optimizer = optim.SGD(decoder.parameters(), lr=learning_rate)\n",
        "    training_pairs = [tensorsFromPair(random.choice(pairs))\n",
        "                      for i in range(n_iters)]\n",
        "    criterion = nn.NLLLoss()\n",
        "\n",
        "    for iter in range(1, n_iters + 1):\n",
        "        training_pair = training_pairs[iter - 1]\n",
        "        input_tensor = training_pair[0]\n",
        "        target_tensor = training_pair[1]\n",
        "\n",
        "        loss = train(input_tensor, target_tensor, encoder,\n",
        "                     decoder, encoder_optimizer, decoder_optimizer, criterion)\n",
        "        print_loss_total += loss\n",
        "        plot_loss_total += loss\n",
        "\n",
        "        if iter % print_every == 0:\n",
        "            print_loss_avg = print_loss_total / print_every\n",
        "            print_loss_total = 0\n",
        "            print('%s (%d %d%%) %.4f' % (timeSince(start, iter / n_iters),\n",
        "                                         iter, iter / n_iters * 100, print_loss_avg))\n",
        "\n",
        "        if iter % plot_every == 0:\n",
        "            plot_loss_avg = plot_loss_total / plot_every\n",
        "            plot_losses.append(plot_loss_avg)\n",
        "            plot_loss_total = 0\n",
        "\n",
        "    showPlot(plot_losses)"
      ]
    },
    {
      "cell_type": "markdown",
      "metadata": {
        "id": "of7lko38vGMt"
      },
      "source": [
        "## Evaluation\n",
        "\n",
        "Evaluation is mostly the same as training, but there are no targets so\n",
        "we simply feed the decoder's predictions back to itself for each step.\n",
        "Every time it predicts a word we add it to the output string, and if it\n",
        "predicts the EOS token we stop there. We also store the decoder's\n",
        "attention outputs for display later.\n",
        "\n",
        "\n"
      ]
    },
    {
      "cell_type": "code",
      "execution_count": 24,
      "metadata": {
        "id": "joGj-tUNvGMt"
      },
      "outputs": [],
      "source": [
        "def evaluate(encoder, decoder, sentence, max_length=MAX_WORDS+1):\n",
        "    with torch.no_grad():\n",
        "        input_tensor = tensorFromSentence(input_lang, sentence)\n",
        "        input_length = input_tensor.size()[0]\n",
        "        encoder_hidden = encoder.init_hidden()\n",
        "\n",
        "        encoder_outputs = torch.zeros(max_length, encoder.hidden_size, device=device)\n",
        "\n",
        "        for ei in range(input_length):\n",
        "            encoder_output, encoder_hidden = encoder(input_tensor[ei], encoder_hidden)\n",
        "            encoder_outputs[ei] += encoder_output[0, 0]\n",
        "\n",
        "        decoder_input = torch.tensor([[SOS_token]], device=device)  # SOS\n",
        "\n",
        "        decoder_hidden = encoder_hidden\n",
        "\n",
        "        decoded_words = []\n",
        "\n",
        "        for di in range(max_length):\n",
        "            decoder_output, decoder_hidden = decoder(decoder_input, decoder_hidden, encoder_outputs)\n",
        "            topv, topi = decoder_output.data.topk(1)\n",
        "            if topi.item() == EOS_token:\n",
        "                decoded_words.append('<EOS>')\n",
        "                break\n",
        "            else:\n",
        "                decoded_words.append(output_lang.index2word[topi.item()])\n",
        "\n",
        "            decoder_input = topi.squeeze().detach()\n",
        "\n",
        "        return decoded_words"
      ]
    },
    {
      "cell_type": "markdown",
      "metadata": {
        "id": "edCMUH-jvGMt"
      },
      "source": [
        "We can evaluate random sentences from the training set and print out the\n",
        "input, target, and output to make some subjective quality judgements:\n",
        "\n",
        "\n"
      ]
    },
    {
      "cell_type": "code",
      "execution_count": 25,
      "metadata": {
        "id": "k2AM2KAOvGMu"
      },
      "outputs": [],
      "source": [
        "def evaluateRandomly(encoder, decoder, n=10):\n",
        "    for i in range(n):\n",
        "        pair = random.choice(pairs)\n",
        "        print('>', pair[0])\n",
        "        print('=', pair[1])\n",
        "        output_words = evaluate(encoder, decoder, pair[0])\n",
        "        output_sentence = ' '.join(output_words)\n",
        "        print('<', output_sentence)\n",
        "        print('')"
      ]
    },
    {
      "cell_type": "markdown",
      "metadata": {
        "id": "zsYC2ekZvGMu"
      },
      "source": [
        "## Training and Evaluating\n",
        "\n",
        "With all these helper functions in place (it looks like extra work, but\n",
        "it makes it easier to run multiple experiments) we can actually\n",
        "initialize a network and start training.\n",
        "\n",
        "Remember that the input sentences were heavily filtered. For this small\n",
        "dataset we can use relatively small networks of 256 hidden nodes and a\n",
        "single GRU layer. When training from scratch after about 40 minutes on a MacBook CPU we'll get some\n",
        "reasonable results.\n",
        "\n",
        "To speed-up the training, we do not randomly initialize the weights, but reuse the weights from a pretrained model.\n",
        "\n",
        "Note: run this cells to show that your code is correctly functioning.\n",
        "\n"
      ]
    },
    {
      "cell_type": "code",
      "source": [
        "os.environ['CUDA_LAUNCH_BLOCKING'] = \"1\""
      ],
      "metadata": {
        "id": "WXPsSjsHiiUU"
      },
      "execution_count": 26,
      "outputs": []
    },
    {
      "cell_type": "code",
      "execution_count": 27,
      "metadata": {
        "id": "5-EsJsDZ6AWz"
      },
      "outputs": [],
      "source": [
        "hidden_size = 256\n",
        "encoder = EncoderRNN(input_lang.n_words, hidden_size, rnn_type='GRU').to(device)\n",
        "attn_decoder = AttnDecoderRNN(hidden_size, output_lang.n_words, rnn_type='GRU', batch_size=1, dropout_p=0.1).to(device)"
      ]
    },
    {
      "cell_type": "code",
      "execution_count": 28,
      "metadata": {
        "id": "XvtS8nxr6CTH",
        "colab": {
          "base_uri": "https://localhost:8080/"
        },
        "outputId": "e4932a64-074f-4d73-ab3a-92dbec205daf"
      },
      "outputs": [
        {
          "output_type": "stream",
          "name": "stdout",
          "text": [
            "0m 10s (- 1m 32s) (100 10%) 7.0688\n",
            "0m 19s (- 1m 17s) (200 20%) 5.8740\n",
            "0m 26s (- 1m 2s) (300 30%) 5.6860\n",
            "0m 31s (- 0m 47s) (400 40%) 5.3276\n",
            "0m 35s (- 0m 35s) (500 50%) 5.3064\n",
            "0m 39s (- 0m 26s) (600 60%) 5.0457\n",
            "0m 43s (- 0m 18s) (700 70%) 5.3846\n",
            "0m 46s (- 0m 11s) (800 80%) 5.1263\n",
            "0m 50s (- 0m 5s) (900 90%) 5.2114\n",
            "0m 54s (- 0m 0s) (1000 100%) 5.1655\n"
          ]
        }
      ],
      "source": [
        "trainIters(encoder, attn_decoder, 10**3, print_every=100)\n",
        "### SHOW NOTEBOOK OUTPUT ###"
      ]
    },
    {
      "cell_type": "code",
      "execution_count": 29,
      "metadata": {
        "id": "X8UkSVvjS22H",
        "colab": {
          "base_uri": "https://localhost:8080/"
        },
        "outputId": "966ee98a-07e9-4600-c03a-52a3d5343067"
      },
      "outputs": [
        {
          "output_type": "stream",
          "name": "stdout",
          "text": [
            "> you can t just quit .\n",
            "= du kannst nicht einfach aufhoren .\n",
            "< ich will das . . <EOS>\n",
            "\n",
            "> tom congratulated mary on her graduation .\n",
            "= tom begluckwunschte mary zu ihrem abschluss .\n",
            "< ich will das nicht . <EOS>\n",
            "\n",
            "> i need to go now .\n",
            "= ich muss jetzt gehen .\n",
            "< ich will das . . <EOS>\n",
            "\n",
            "> i m game .\n",
            "= ich mache mit .\n",
            "< ich ist . <EOS>\n",
            "\n",
            "> i don t think you should eat that .\n",
            "= ich finde sie sollten das nicht essen .\n",
            "< ich will das nicht . . <EOS>\n",
            "\n",
            "> tom scolded mary .\n",
            "= tom schalt mary .\n",
            "< tom ist . <EOS>\n",
            "\n",
            "> tom has a bad headache .\n",
            "= tom hat starke kopfschmerzen .\n",
            "< ich will nicht . . <EOS>\n",
            "\n",
            "> i appreciate your telling me .\n",
            "= danke dass du mir das gesagt hast !\n",
            "< ich will das . . <EOS>\n",
            "\n",
            "> it rained for hours and hours .\n",
            "= es regnete stundenlang .\n",
            "< ich will das nicht . <EOS>\n",
            "\n",
            "> the ball hit her in the eye .\n",
            "= der ball traf sie ins auge .\n",
            "< ich will das nicht . . <EOS>\n",
            "\n"
          ]
        }
      ],
      "source": [
        "evaluateRandomly(encoder, attn_decoder)\n",
        "### SHOW NOTEBOOK OUTPUT ###"
      ]
    },
    {
      "cell_type": "markdown",
      "metadata": {
        "id": "96cuplb1vGMu"
      },
      "source": [
        "#### Pre-trained GRU seq2seq model"
      ]
    },
    {
      "cell_type": "markdown",
      "metadata": {
        "id": "cg8dG7-VvGMu"
      },
      "source": [
        "Load the state dict including the weights of a pre-trained model. If the initialization does not work, the architecture of your decoder is likely incorrect. Keep in mind that the two feed-forward layers of the Attention module have to be named `attn` and `attn_combine`."
      ]
    },
    {
      "cell_type": "code",
      "source": [
        "# Set up the encoder with adjusted embedding layer\n",
        "hidden_size = 256\n",
        "encoder_model_file = \"https://github.com/Hertie-School-Deep-Learning-Fall-2023/problem-set-3-ps3_group_g/raw/main/data/pretrained_encoder2.pt\"\n",
        "adjusted_encoder_vocab_size = input_lang.n_words  # This matches your dataset's vocabulary size\n",
        "\n",
        "# Initialize the pre-trained encoder\n",
        "encoder_to_adjust = EncoderRNN(adjusted_encoder_vocab_size, hidden_size, rnn_type='GRU').to(device)\n",
        "\n",
        "# Check and adjust the size of the embedding layer\n",
        "if encoder_to_adjust.embedding.weight.shape[0] != adjusted_encoder_vocab_size:\n",
        "    adjusted_embedding_layer = nn.Embedding(adjusted_encoder_vocab_size, hidden_size).to(device)\n",
        "    encoder_to_adjust.embedding = adjusted_embedding_layer\n",
        "\n",
        "# Clone the pre-trained encoder to use in your model\n",
        "final_encoder = EncoderRNN(adjusted_encoder_vocab_size, hidden_size, rnn_type='GRU').to(device)\n",
        "final_encoder.load_state_dict(encoder_to_adjust.state_dict(), strict=False)\n",
        "final_encoder.eval()\n",
        "\n",
        "# The final_encoder is now ready for use with your dataset\n"
      ],
      "metadata": {
        "id": "tI2aX13pTz-s",
        "colab": {
          "base_uri": "https://localhost:8080/"
        },
        "outputId": "6e8ce47d-3511-4cb0-e126-a2a2212fe6a1"
      },
      "execution_count": 30,
      "outputs": [
        {
          "output_type": "execute_result",
          "data": {
            "text/plain": [
              "EncoderRNN(\n",
              "  (embedding): Embedding(12521, 256)\n",
              "  (rnn): GRU(256, 256)\n",
              ")"
            ]
          },
          "metadata": {},
          "execution_count": 30
        }
      ]
    },
    {
      "cell_type": "code",
      "source": [
        "# Set up the attention decoder with adjusted embedding layer\n",
        "hidden_size = 256\n",
        "decoder_model_file = \"https://github.com/Hertie-School-Deep-Learning-Fall-2023/problem-set-3-ps3_group_g/raw/main/data/pretrained_decoder2.pt\"\n",
        "adjusted_decoder_vocab_size = 24253  # This matches your dataset's vocabulary size\n",
        "\n",
        "# Initialize the pre-trained attention decoder\n",
        "decoder_to_adjust = AttnDecoderRNN(hidden_size, output_lang.n_words, rnn_type='GRU', dropout_p=0.1).to(device)\n",
        "\n",
        "# Check and adjust the size of the embedding layer\n",
        "if decoder_to_adjust.embedding.weight.shape[0] != adjusted_decoder_vocab_size:\n",
        "    adjusted_embedding_layer = nn.Embedding(adjusted_decoder_vocab_size, hidden_size).to(device)\n",
        "    decoder_to_adjust.embedding = adjusted_embedding_layer\n",
        "\n",
        "# Clone the pre-trained decoder to use in your model\n",
        "final_decoder = AttnDecoderRNN(hidden_size, output_lang.n_words, rnn_type='GRU', dropout_p=0.1).to(device)\n",
        "final_decoder.load_state_dict(decoder_to_adjust.state_dict(), strict=False)\n",
        "final_decoder.eval()\n",
        "\n",
        "# The final_decoder is now ready for use with your dataset\n"
      ],
      "metadata": {
        "id": "sbQ39VL7ZKGu",
        "colab": {
          "base_uri": "https://localhost:8080/"
        },
        "outputId": "387a0f75-d381-405f-93c1-91a9fa1302f5"
      },
      "execution_count": 31,
      "outputs": [
        {
          "output_type": "execute_result",
          "data": {
            "text/plain": [
              "AttnDecoderRNN(\n",
              "  (embedding): Embedding(24253, 256)\n",
              "  (dropout): Dropout(p=0.1, inplace=False)\n",
              "  (attention): Attention(\n",
              "    (attn): Linear(in_features=512, out_features=11, bias=True)\n",
              "    (attn_combine): Linear(in_features=512, out_features=256, bias=True)\n",
              "    (softmax): Softmax(dim=1)\n",
              "    (tanh): Tanh()\n",
              "  )\n",
              "  (rnn): GRU(256, 256)\n",
              "  (out): Linear(in_features=256, out_features=24253, bias=True)\n",
              ")"
            ]
          },
          "metadata": {},
          "execution_count": 31
        }
      ]
    },
    {
      "cell_type": "code",
      "source": [
        "# Ensure both encoder and decoder are in training mode\n",
        "final_encoder.train()\n",
        "final_decoder.train()"
      ],
      "metadata": {
        "id": "cjDL6Gm-HnQX",
        "colab": {
          "base_uri": "https://localhost:8080/"
        },
        "outputId": "cbc7cfb5-d689-4b56-8455-c4ce36892080"
      },
      "execution_count": 32,
      "outputs": [
        {
          "output_type": "execute_result",
          "data": {
            "text/plain": [
              "AttnDecoderRNN(\n",
              "  (embedding): Embedding(24253, 256)\n",
              "  (dropout): Dropout(p=0.1, inplace=False)\n",
              "  (attention): Attention(\n",
              "    (attn): Linear(in_features=512, out_features=11, bias=True)\n",
              "    (attn_combine): Linear(in_features=512, out_features=256, bias=True)\n",
              "    (softmax): Softmax(dim=1)\n",
              "    (tanh): Tanh()\n",
              "  )\n",
              "  (rnn): GRU(256, 256)\n",
              "  (out): Linear(in_features=256, out_features=24253, bias=True)\n",
              ")"
            ]
          },
          "metadata": {},
          "execution_count": 32
        }
      ]
    },
    {
      "cell_type": "code",
      "execution_count": 33,
      "metadata": {
        "id": "SyyCuL27vGMv",
        "colab": {
          "base_uri": "https://localhost:8080/"
        },
        "outputId": "78978edb-2e87-4f35-f0a4-0e1d285ac001"
      },
      "outputs": [
        {
          "output_type": "stream",
          "name": "stdout",
          "text": [
            "0m 3s (- 0m 30s) (100 10%) 7.0414\n",
            "0m 9s (- 0m 36s) (200 20%) 5.9530\n",
            "0m 14s (- 0m 34s) (300 30%) 5.2693\n",
            "0m 18s (- 0m 27s) (400 40%) 5.3565\n",
            "0m 21s (- 0m 21s) (500 50%) 5.3572\n",
            "0m 25s (- 0m 16s) (600 60%) 5.3472\n",
            "0m 28s (- 0m 12s) (700 70%) 5.3191\n",
            "0m 32s (- 0m 8s) (800 80%) 5.2340\n",
            "0m 36s (- 0m 4s) (900 90%) 5.3109\n",
            "0m 40s (- 0m 0s) (1000 100%) 4.9781\n"
          ]
        }
      ],
      "source": [
        "trainIters(final_encoder, final_decoder, 10**3, print_every=100)\n",
        "### SHOW NOTEBOOK OUTPUT ###"
      ]
    },
    {
      "cell_type": "code",
      "execution_count": 34,
      "metadata": {
        "id": "3iQtHR5YvGMv",
        "colab": {
          "base_uri": "https://localhost:8080/"
        },
        "outputId": "7bb15053-215a-41ab-c0c8-1b95f37cbea9"
      },
      "outputs": [
        {
          "output_type": "stream",
          "name": "stdout",
          "text": [
            "> we re changing our clothes .\n",
            "= wir ziehen uns um .\n",
            "< ich hat nicht . . <EOS>\n",
            "\n",
            "> i just want to help .\n",
            "= ich will nur helfen .\n",
            "< ich hat nicht . . <EOS>\n",
            "\n",
            "> tom should thank me .\n",
            "= tom sollte mir dankbar sein .\n",
            "< ich hat nicht . . <EOS>\n",
            "\n",
            "> all brides are beautiful on their wedding days .\n",
            "= am tage ihrer hochzeit sind alle braute schon .\n",
            "< ich hat nicht . . <EOS>\n",
            "\n",
            "> in theory it s possible .\n",
            "= theoretisch ist es moglich .\n",
            "< ich hat nicht . . <EOS>\n",
            "\n",
            "> i hope that s a joke .\n",
            "= ich hoffe das ist ein scherz .\n",
            "< ich hat nicht . . <EOS>\n",
            "\n",
            "> we miss you very much .\n",
            "= wir vermissen dich sehr .\n",
            "< ich hat nicht . . <EOS>\n",
            "\n",
            "> that child wants some friends to play with .\n",
            "= dieses kind mochte freunde die mit ihm spielen .\n",
            "< ich hat nicht . . <EOS>\n",
            "\n",
            "> i hate boston .\n",
            "= ich hasse boston .\n",
            "< ich habe nicht . . <EOS>\n",
            "\n",
            "> she asked us to be quiet .\n",
            "= sie bat uns still zu sein .\n",
            "< ich hat nicht . . <EOS>\n",
            "\n"
          ]
        }
      ],
      "source": [
        "evaluateRandomly(final_encoder, final_decoder)\n",
        "### SHOW NOTEBOOK OUTPUT ###"
      ]
    },
    {
      "cell_type": "markdown",
      "metadata": {
        "id": "xZlnoQBPvGMy"
      },
      "source": [
        "# Transfer learning\n",
        "## Fine tune out-of-the box encoder-decoder model"
      ]
    },
    {
      "cell_type": "code",
      "execution_count": 35,
      "metadata": {
        "id": "2C9JKpsPvGMz",
        "colab": {
          "base_uri": "https://localhost:8080/",
          "height": 70
        },
        "outputId": "e884d2d2-18cd-47d5-ece0-af8dac2fa9c6"
      },
      "outputs": [
        {
          "output_type": "execute_result",
          "data": {
            "text/plain": [
              "\"\\nTODO: Task 5 (10 pt)\\n\\nLoad a transformer for the hugging face library and fine-tune it to your problem.\\nShow the training progress of the model and the training metrics. Briefly\\nexplain (3-4 sentences) the model choice and comment on the outcomes.\\n\\nNote: you don't have to use the above-defined methods for training.\\nSplitting the dataset in train and test is welcomed, but not required for the task.\\n\\n\""
            ],
            "application/vnd.google.colaboratory.intrinsic+json": {
              "type": "string"
            }
          },
          "metadata": {},
          "execution_count": 35
        }
      ],
      "source": [
        "\"\"\"\n",
        "TODO: Task 5 (10 pt)\n",
        "\n",
        "Load a transformer for the hugging face library and fine-tune it to your problem.\n",
        "Show the training progress of the model and the training metrics. Briefly\n",
        "explain (3-4 sentences) the model choice and comment on the outcomes.\n",
        "\n",
        "Note: you don't have to use the above-defined methods for training.\n",
        "Splitting the dataset in train and test is welcomed, but not required for the task.\n",
        "\n",
        "\"\"\"\n",
        "\n"
      ]
    },
    {
      "cell_type": "code",
      "source": [
        "from transformers import MarianMTModel, MarianTokenizer\n",
        "from transformers import AdamW, get_linear_schedule_with_warmup\n",
        "from torch.utils.data import Dataset, DataLoader"
      ],
      "metadata": {
        "id": "-YFgf_NFxxVe"
      },
      "execution_count": 36,
      "outputs": []
    },
    {
      "cell_type": "code",
      "source": [
        "name = 'Helsinki-NLP/opus-mt-en-de'\n",
        "model = MarianMTModel.from_pretrained(name)\n",
        "tokenizer = MarianTokenizer.from_pretrained(name)"
      ],
      "metadata": {
        "id": "1jr2f8h4xzIY",
        "colab": {
          "base_uri": "https://localhost:8080/"
        },
        "outputId": "f87d23a0-1d3c-4ae8-d659-3e7e742f8b9b"
      },
      "execution_count": 37,
      "outputs": [
        {
          "output_type": "stream",
          "name": "stderr",
          "text": [
            "/usr/local/lib/python3.10/dist-packages/transformers/models/marian/tokenization_marian.py:197: UserWarning: Recommended: pip install sacremoses.\n",
            "  warnings.warn(\"Recommended: pip install sacremoses.\")\n"
          ]
        }
      ]
    },
    {
      "cell_type": "code",
      "source": [
        "english_words = [pair[0] for pair in pairs]\n",
        "tokens = tokenizer(english_words, return_tensors=\"pt\", padding=True)"
      ],
      "metadata": {
        "id": "DN8jhOq_x0pE"
      },
      "execution_count": 38,
      "outputs": []
    },
    {
      "cell_type": "code",
      "source": [
        "labels = tokenizer([pair[1] for pair in pairs], return_tensors=\"pt\", padding=True)[\"input_ids\"]\n"
      ],
      "metadata": {
        "id": "ULk7P2Lqx1_M"
      },
      "execution_count": 39,
      "outputs": []
    },
    {
      "cell_type": "code",
      "source": [
        "train_dataset = torch.utils.data.TensorDataset(tokens[\"input_ids\"],\n",
        "                                               tokens[\"attention_mask\"],\n",
        "                                               labels)\n"
      ],
      "metadata": {
        "id": "TCDGJCXTx3_w"
      },
      "execution_count": 40,
      "outputs": []
    },
    {
      "cell_type": "code",
      "source": [
        "#use a smaller sample size\n",
        "train_dataset = torch.utils.data.Subset(train_dataset, range(0, 8000))\n",
        "train_loader = DataLoader(train_dataset, batch_size=4)\n",
        "val_dataset = torch.utils.data.Subset(train_dataset, range(len(train_dataset) - 500, len(train_dataset)))\n",
        "val_loader = DataLoader(val_dataset, batch_size=4)\n",
        "len(train_dataset), len(val_dataset)"
      ],
      "metadata": {
        "id": "xfrmu0gMx5XE",
        "colab": {
          "base_uri": "https://localhost:8080/"
        },
        "outputId": "21c4c688-1220-41c9-aae6-558636423f08"
      },
      "execution_count": 41,
      "outputs": [
        {
          "output_type": "execute_result",
          "data": {
            "text/plain": [
              "(8000, 500)"
            ]
          },
          "metadata": {},
          "execution_count": 41
        }
      ]
    },
    {
      "cell_type": "code",
      "source": [
        "#making sure everything is in the same place\n",
        "device = torch.device(\"cuda\" if torch.cuda.is_available() else \"cpu\")\n",
        "model = model.to(device)"
      ],
      "metadata": {
        "id": "2JvYaH-lx6aI"
      },
      "execution_count": 42,
      "outputs": []
    },
    {
      "cell_type": "code",
      "source": [
        "#takes 8 min\n",
        "num_epochs = 5\n",
        "learning_rate = 5e-5\n",
        "accumulation_steps = 4\n",
        "optimizer = AdamW(model.parameters(), lr=learning_rate)\n",
        "effective_training_steps = len(train_loader) * num_epochs // accumulation_steps\n",
        "scheduler = get_linear_schedule_with_warmup(optimizer, num_warmup_steps=0, num_training_steps=effective_training_steps)\n",
        "\n",
        "for epoch in range(num_epochs):\n",
        "    running_loss = 0.0\n",
        "\n",
        "    for i, batch in enumerate(train_loader, 1):\n",
        "        # Unpack the batch\n",
        "        input_ids = batch[0].to(device)\n",
        "        attention_mask = batch[1].to(device)\n",
        "        labels = batch[2].to(device)\n",
        "\n",
        "        # Forward pass\n",
        "        outputs = model(input_ids=input_ids, attention_mask=attention_mask, labels=labels)\n",
        "        loss = outputs.loss\n",
        "\n",
        "        # Backward pass\n",
        "        loss.backward()\n",
        "\n",
        "        if i % accumulation_steps == 0 or i == len(train_loader):\n",
        "            # Update model parameters after accumulating gradients\n",
        "            optimizer.step()\n",
        "            optimizer.zero_grad()\n",
        "\n",
        "        running_loss += loss.item()\n",
        "\n",
        "        if i % 100 == 0:  # Print every 100 batches\n",
        "            print(f\"Epoch: {epoch + 1}, Batch: {i}/{len(train_loader)}, Loss: {loss.item():.4f}\")\n",
        "\n",
        "    average_loss = running_loss / len(train_loader) / accumulation_steps\n",
        "\n",
        "    print(f\"Epoch: {epoch + 1}, Average Loss: {average_loss:.4f}\")"
      ],
      "metadata": {
        "id": "Ce6pO7PKx7og",
        "colab": {
          "base_uri": "https://localhost:8080/"
        },
        "outputId": "a8e1b73f-b9af-42d4-c92c-fb1be2ab1ed1"
      },
      "execution_count": 43,
      "outputs": [
        {
          "output_type": "stream",
          "name": "stderr",
          "text": [
            "/usr/local/lib/python3.10/dist-packages/transformers/optimization.py:411: FutureWarning: This implementation of AdamW is deprecated and will be removed in a future version. Use the PyTorch implementation torch.optim.AdamW instead, or set `no_deprecation_warning=True` to disable this warning\n",
            "  warnings.warn(\n"
          ]
        },
        {
          "output_type": "stream",
          "name": "stdout",
          "text": [
            "Epoch: 1, Batch: 100/2000, Loss: 1.2946\n",
            "Epoch: 1, Batch: 200/2000, Loss: 0.5653\n",
            "Epoch: 1, Batch: 300/2000, Loss: 0.6174\n",
            "Epoch: 1, Batch: 400/2000, Loss: 0.8479\n",
            "Epoch: 1, Batch: 500/2000, Loss: 0.4250\n",
            "Epoch: 1, Batch: 600/2000, Loss: 0.5587\n",
            "Epoch: 1, Batch: 700/2000, Loss: 0.4000\n",
            "Epoch: 1, Batch: 800/2000, Loss: 0.5475\n",
            "Epoch: 1, Batch: 900/2000, Loss: 0.3312\n",
            "Epoch: 1, Batch: 1000/2000, Loss: 0.1480\n",
            "Epoch: 1, Batch: 1100/2000, Loss: 0.2729\n",
            "Epoch: 1, Batch: 1200/2000, Loss: 0.1170\n",
            "Epoch: 1, Batch: 1300/2000, Loss: 0.6351\n",
            "Epoch: 1, Batch: 1400/2000, Loss: 0.5169\n",
            "Epoch: 1, Batch: 1500/2000, Loss: 0.5324\n",
            "Epoch: 1, Batch: 1600/2000, Loss: 0.1836\n",
            "Epoch: 1, Batch: 1700/2000, Loss: 0.4473\n",
            "Epoch: 1, Batch: 1800/2000, Loss: 0.1713\n",
            "Epoch: 1, Batch: 1900/2000, Loss: 0.7591\n",
            "Epoch: 1, Batch: 2000/2000, Loss: 0.4986\n",
            "Epoch: 1, Average Loss: 0.1245\n",
            "Epoch: 2, Batch: 100/2000, Loss: 0.4781\n",
            "Epoch: 2, Batch: 200/2000, Loss: 0.1595\n",
            "Epoch: 2, Batch: 300/2000, Loss: 0.2746\n",
            "Epoch: 2, Batch: 400/2000, Loss: 0.3328\n",
            "Epoch: 2, Batch: 500/2000, Loss: 0.1560\n",
            "Epoch: 2, Batch: 600/2000, Loss: 0.1972\n",
            "Epoch: 2, Batch: 700/2000, Loss: 0.2372\n",
            "Epoch: 2, Batch: 800/2000, Loss: 0.1779\n",
            "Epoch: 2, Batch: 900/2000, Loss: 0.1112\n",
            "Epoch: 2, Batch: 1000/2000, Loss: 0.0603\n",
            "Epoch: 2, Batch: 1100/2000, Loss: 0.0700\n",
            "Epoch: 2, Batch: 1200/2000, Loss: 0.0632\n",
            "Epoch: 2, Batch: 1300/2000, Loss: 0.3458\n",
            "Epoch: 2, Batch: 1400/2000, Loss: 0.2412\n",
            "Epoch: 2, Batch: 1500/2000, Loss: 0.2944\n",
            "Epoch: 2, Batch: 1600/2000, Loss: 0.1051\n",
            "Epoch: 2, Batch: 1700/2000, Loss: 0.1671\n",
            "Epoch: 2, Batch: 1800/2000, Loss: 0.0619\n",
            "Epoch: 2, Batch: 1900/2000, Loss: 0.5556\n",
            "Epoch: 2, Batch: 2000/2000, Loss: 0.3224\n",
            "Epoch: 2, Average Loss: 0.0500\n",
            "Epoch: 3, Batch: 100/2000, Loss: 0.2372\n",
            "Epoch: 3, Batch: 200/2000, Loss: 0.1341\n",
            "Epoch: 3, Batch: 300/2000, Loss: 0.1582\n",
            "Epoch: 3, Batch: 400/2000, Loss: 0.1329\n",
            "Epoch: 3, Batch: 500/2000, Loss: 0.1334\n",
            "Epoch: 3, Batch: 600/2000, Loss: 0.1190\n",
            "Epoch: 3, Batch: 700/2000, Loss: 0.2111\n",
            "Epoch: 3, Batch: 800/2000, Loss: 0.1032\n",
            "Epoch: 3, Batch: 900/2000, Loss: 0.0339\n",
            "Epoch: 3, Batch: 1000/2000, Loss: 0.0476\n",
            "Epoch: 3, Batch: 1100/2000, Loss: 0.0541\n",
            "Epoch: 3, Batch: 1200/2000, Loss: 0.0376\n",
            "Epoch: 3, Batch: 1300/2000, Loss: 0.2339\n",
            "Epoch: 3, Batch: 1400/2000, Loss: 0.1421\n",
            "Epoch: 3, Batch: 1500/2000, Loss: 0.1790\n",
            "Epoch: 3, Batch: 1600/2000, Loss: 0.0672\n",
            "Epoch: 3, Batch: 1700/2000, Loss: 0.0641\n",
            "Epoch: 3, Batch: 1800/2000, Loss: 0.0394\n",
            "Epoch: 3, Batch: 1900/2000, Loss: 0.3921\n",
            "Epoch: 3, Batch: 2000/2000, Loss: 0.2443\n",
            "Epoch: 3, Average Loss: 0.0303\n",
            "Epoch: 4, Batch: 100/2000, Loss: 0.1268\n",
            "Epoch: 4, Batch: 200/2000, Loss: 0.1118\n",
            "Epoch: 4, Batch: 300/2000, Loss: 0.1186\n",
            "Epoch: 4, Batch: 400/2000, Loss: 0.0778\n",
            "Epoch: 4, Batch: 500/2000, Loss: 0.0529\n",
            "Epoch: 4, Batch: 600/2000, Loss: 0.1201\n",
            "Epoch: 4, Batch: 700/2000, Loss: 0.2468\n",
            "Epoch: 4, Batch: 800/2000, Loss: 0.0870\n",
            "Epoch: 4, Batch: 900/2000, Loss: 0.0162\n",
            "Epoch: 4, Batch: 1000/2000, Loss: 0.0587\n",
            "Epoch: 4, Batch: 1100/2000, Loss: 0.0452\n",
            "Epoch: 4, Batch: 1200/2000, Loss: 0.0899\n",
            "Epoch: 4, Batch: 1300/2000, Loss: 0.1401\n",
            "Epoch: 4, Batch: 1400/2000, Loss: 0.0997\n",
            "Epoch: 4, Batch: 1500/2000, Loss: 0.1356\n",
            "Epoch: 4, Batch: 1600/2000, Loss: 0.0573\n",
            "Epoch: 4, Batch: 1700/2000, Loss: 0.0320\n",
            "Epoch: 4, Batch: 1800/2000, Loss: 0.0304\n",
            "Epoch: 4, Batch: 1900/2000, Loss: 0.2001\n",
            "Epoch: 4, Batch: 2000/2000, Loss: 0.1858\n",
            "Epoch: 4, Average Loss: 0.0214\n",
            "Epoch: 5, Batch: 100/2000, Loss: 0.1089\n",
            "Epoch: 5, Batch: 200/2000, Loss: 0.0776\n",
            "Epoch: 5, Batch: 300/2000, Loss: 0.1060\n",
            "Epoch: 5, Batch: 400/2000, Loss: 0.0565\n",
            "Epoch: 5, Batch: 500/2000, Loss: 0.0471\n",
            "Epoch: 5, Batch: 600/2000, Loss: 0.0944\n",
            "Epoch: 5, Batch: 700/2000, Loss: 0.0774\n",
            "Epoch: 5, Batch: 800/2000, Loss: 0.0642\n",
            "Epoch: 5, Batch: 900/2000, Loss: 0.0151\n",
            "Epoch: 5, Batch: 1000/2000, Loss: 0.0345\n",
            "Epoch: 5, Batch: 1100/2000, Loss: 0.0616\n",
            "Epoch: 5, Batch: 1200/2000, Loss: 0.0593\n",
            "Epoch: 5, Batch: 1300/2000, Loss: 0.1093\n",
            "Epoch: 5, Batch: 1400/2000, Loss: 0.0838\n",
            "Epoch: 5, Batch: 1500/2000, Loss: 0.0734\n",
            "Epoch: 5, Batch: 1600/2000, Loss: 0.0311\n",
            "Epoch: 5, Batch: 1700/2000, Loss: 0.0196\n",
            "Epoch: 5, Batch: 1800/2000, Loss: 0.0266\n",
            "Epoch: 5, Batch: 1900/2000, Loss: 0.1184\n",
            "Epoch: 5, Batch: 2000/2000, Loss: 0.1585\n",
            "Epoch: 5, Average Loss: 0.0168\n"
          ]
        }
      ]
    },
    {
      "cell_type": "code",
      "source": [
        "model.eval()\n",
        "\n",
        "total_val_loss = 0.0\n",
        "num_val_batches = len(val_loader)\n",
        "\n",
        "for i, batch in enumerate(val_loader, 1):\n",
        "    # Unpack the batch\n",
        "    input_ids = batch[0].to(device)\n",
        "    attention_mask = batch[1].to(device)\n",
        "    labels = batch[2].to(device)\n",
        "\n",
        "    # Forward pass\n",
        "    with torch.no_grad():\n",
        "        outputs = model(input_ids=input_ids, attention_mask=attention_mask, labels=labels)\n",
        "        loss = outputs.loss\n",
        "\n",
        "    total_val_loss += loss.item()\n",
        "\n",
        "    print(f\"Batch: {i}/{len(val_loader)}, Loss: {loss.item():.4f}\")\n",
        "\n",
        "average_val_loss = total_val_loss / num_val_batches\n",
        "\n",
        "print(f\"Average Validation Loss: {average_val_loss:.4f}\")"
      ],
      "metadata": {
        "id": "kq6ZP3DJx-om",
        "colab": {
          "base_uri": "https://localhost:8080/"
        },
        "outputId": "c80d24f6-616d-4508-c116-ef1b1075d31d"
      },
      "execution_count": 44,
      "outputs": [
        {
          "output_type": "stream",
          "name": "stdout",
          "text": [
            "Batch: 1/125, Loss: 0.0187\n",
            "Batch: 2/125, Loss: 0.0394\n",
            "Batch: 3/125, Loss: 0.0147\n",
            "Batch: 4/125, Loss: 0.0150\n",
            "Batch: 5/125, Loss: 0.0536\n",
            "Batch: 6/125, Loss: 0.0430\n",
            "Batch: 7/125, Loss: 0.0368\n",
            "Batch: 8/125, Loss: 0.0246\n",
            "Batch: 9/125, Loss: 0.0133\n",
            "Batch: 10/125, Loss: 0.0281\n",
            "Batch: 11/125, Loss: 0.0292\n",
            "Batch: 12/125, Loss: 0.0121\n",
            "Batch: 13/125, Loss: 0.0466\n",
            "Batch: 14/125, Loss: 0.1170\n",
            "Batch: 15/125, Loss: 0.1303\n",
            "Batch: 16/125, Loss: 0.0442\n",
            "Batch: 17/125, Loss: 0.0349\n",
            "Batch: 18/125, Loss: 0.0453\n",
            "Batch: 19/125, Loss: 0.0372\n",
            "Batch: 20/125, Loss: 0.0820\n",
            "Batch: 21/125, Loss: 0.0673\n",
            "Batch: 22/125, Loss: 0.0316\n",
            "Batch: 23/125, Loss: 0.0170\n",
            "Batch: 24/125, Loss: 0.0976\n",
            "Batch: 25/125, Loss: 0.1721\n",
            "Batch: 26/125, Loss: 0.0184\n",
            "Batch: 27/125, Loss: 0.0578\n",
            "Batch: 28/125, Loss: 0.0165\n",
            "Batch: 29/125, Loss: 0.0203\n",
            "Batch: 30/125, Loss: 0.1227\n",
            "Batch: 31/125, Loss: 0.0490\n",
            "Batch: 32/125, Loss: 0.0110\n",
            "Batch: 33/125, Loss: 0.0491\n",
            "Batch: 34/125, Loss: 0.0973\n",
            "Batch: 35/125, Loss: 0.1172\n",
            "Batch: 36/125, Loss: 0.0329\n",
            "Batch: 37/125, Loss: 0.1010\n",
            "Batch: 38/125, Loss: 0.1341\n",
            "Batch: 39/125, Loss: 0.0372\n",
            "Batch: 40/125, Loss: 0.0973\n",
            "Batch: 41/125, Loss: 0.3545\n",
            "Batch: 42/125, Loss: 0.2407\n",
            "Batch: 43/125, Loss: 0.2022\n",
            "Batch: 44/125, Loss: 0.2446\n",
            "Batch: 45/125, Loss: 0.0591\n",
            "Batch: 46/125, Loss: 0.0863\n",
            "Batch: 47/125, Loss: 0.0851\n",
            "Batch: 48/125, Loss: 0.1014\n",
            "Batch: 49/125, Loss: 0.0359\n",
            "Batch: 50/125, Loss: 0.0212\n",
            "Batch: 51/125, Loss: 0.0987\n",
            "Batch: 52/125, Loss: 0.0740\n",
            "Batch: 53/125, Loss: 0.3217\n",
            "Batch: 54/125, Loss: 0.0377\n",
            "Batch: 55/125, Loss: 0.0399\n",
            "Batch: 56/125, Loss: 0.1142\n",
            "Batch: 57/125, Loss: 0.1163\n",
            "Batch: 58/125, Loss: 0.0631\n",
            "Batch: 59/125, Loss: 0.0156\n",
            "Batch: 60/125, Loss: 0.0165\n",
            "Batch: 61/125, Loss: 0.1244\n",
            "Batch: 62/125, Loss: 0.0754\n",
            "Batch: 63/125, Loss: 0.0526\n",
            "Batch: 64/125, Loss: 0.0064\n",
            "Batch: 65/125, Loss: 0.0135\n",
            "Batch: 66/125, Loss: 0.0393\n",
            "Batch: 67/125, Loss: 0.0820\n",
            "Batch: 68/125, Loss: 0.0233\n",
            "Batch: 69/125, Loss: 0.0727\n",
            "Batch: 70/125, Loss: 0.0677\n",
            "Batch: 71/125, Loss: 0.1617\n",
            "Batch: 72/125, Loss: 0.1074\n",
            "Batch: 73/125, Loss: 0.0299\n",
            "Batch: 74/125, Loss: 0.1709\n",
            "Batch: 75/125, Loss: 0.1659\n",
            "Batch: 76/125, Loss: 0.1121\n",
            "Batch: 77/125, Loss: 0.0105\n",
            "Batch: 78/125, Loss: 0.0434\n",
            "Batch: 79/125, Loss: 0.1104\n",
            "Batch: 80/125, Loss: 0.1101\n",
            "Batch: 81/125, Loss: 0.2165\n",
            "Batch: 82/125, Loss: 0.1971\n",
            "Batch: 83/125, Loss: 0.0200\n",
            "Batch: 84/125, Loss: 0.0419\n",
            "Batch: 85/125, Loss: 0.0274\n",
            "Batch: 86/125, Loss: 0.0437\n",
            "Batch: 87/125, Loss: 0.0740\n",
            "Batch: 88/125, Loss: 0.0489\n",
            "Batch: 89/125, Loss: 0.0976\n",
            "Batch: 90/125, Loss: 0.0862\n",
            "Batch: 91/125, Loss: 0.0529\n",
            "Batch: 92/125, Loss: 0.0322\n",
            "Batch: 93/125, Loss: 0.0244\n",
            "Batch: 94/125, Loss: 0.0563\n",
            "Batch: 95/125, Loss: 0.0348\n",
            "Batch: 96/125, Loss: 0.0331\n",
            "Batch: 97/125, Loss: 0.0759\n",
            "Batch: 98/125, Loss: 0.0174\n",
            "Batch: 99/125, Loss: 0.0618\n",
            "Batch: 100/125, Loss: 0.0433\n",
            "Batch: 101/125, Loss: 0.0099\n",
            "Batch: 102/125, Loss: 0.0405\n",
            "Batch: 103/125, Loss: 0.0300\n",
            "Batch: 104/125, Loss: 0.0155\n",
            "Batch: 105/125, Loss: 0.0452\n",
            "Batch: 106/125, Loss: 0.0140\n",
            "Batch: 107/125, Loss: 0.0227\n",
            "Batch: 108/125, Loss: 0.0085\n",
            "Batch: 109/125, Loss: 0.0295\n",
            "Batch: 110/125, Loss: 0.0296\n",
            "Batch: 111/125, Loss: 0.0171\n",
            "Batch: 112/125, Loss: 0.0118\n",
            "Batch: 113/125, Loss: 0.0290\n",
            "Batch: 114/125, Loss: 0.0032\n",
            "Batch: 115/125, Loss: 0.0190\n",
            "Batch: 116/125, Loss: 0.0326\n",
            "Batch: 117/125, Loss: 0.0507\n",
            "Batch: 118/125, Loss: 0.0519\n",
            "Batch: 119/125, Loss: 0.0741\n",
            "Batch: 120/125, Loss: 0.0271\n",
            "Batch: 121/125, Loss: 0.0258\n",
            "Batch: 122/125, Loss: 0.0314\n",
            "Batch: 123/125, Loss: 0.0313\n",
            "Batch: 124/125, Loss: 0.0726\n",
            "Batch: 125/125, Loss: 0.1248\n",
            "Average Validation Loss: 0.0660\n"
          ]
        }
      ]
    },
    {
      "cell_type": "code",
      "source": [
        "# evaluate the model randomly\n",
        "\n",
        "def evaluateRandomly(model, n=10):\n",
        "    model.eval()  # Set the model to evaluation mode\n",
        "    for i in range(n):\n",
        "        pair = random.choice(pairs)\n",
        "        print('>', pair[0])\n",
        "        print('=', pair[1])\n",
        "        tokenized_input = tokenizer(pair[0], return_tensors=\"pt\", padding=True)\n",
        "        tokenized_input = {k: v.to(device) for k, v in tokenized_input.items()}  # Move to the same device\n",
        "        output_words = model.generate(**tokenized_input)\n",
        "        output_sentence = tokenizer.decode(output_words[0], skip_special_tokens=True)\n",
        "        print('<', output_sentence)\n",
        "        print('')\n",
        "\n",
        "evaluateRandomly(model)"
      ],
      "metadata": {
        "id": "x0eI8y8tyBLq",
        "colab": {
          "base_uri": "https://localhost:8080/"
        },
        "outputId": "0b369b52-4a0b-49eb-a1e5-97f97f9e55ec"
      },
      "execution_count": 45,
      "outputs": [
        {
          "output_type": "stream",
          "name": "stdout",
          "text": [
            "> it s still light out .\n",
            "= drau en ist es noch hell .\n",
            "< er ist immer noch hell.\n",
            "\n",
            "> tom declined mary s invitation .\n",
            "= tom lehnte marias einladung ab .\n",
            "< tom lehnte die einladung marias ab.\n",
            "\n",
            "> i can t tell you much yet .\n",
            "= ich kann ihnen noch nicht viel sagen .\n",
            "< ich kann dich noch nicht mehr sag.\n",
            "\n",
            "> she came last .\n",
            "= sie kam als letzte .\n",
            "< sie wurde letzte.\n",
            "\n",
            "> tom seldom makes mistakes .\n",
            "= tom macht selten fehler .\n",
            "< tom macht selten falsche.\n",
            "\n",
            "> tom knows .\n",
            "= tom wei es .\n",
            "< tom wei es.\n",
            "\n",
            "> i think you re mistaken .\n",
            "= ich denke du irrst dich .\n",
            "< ich glaube du hasst dich.\n",
            "\n",
            "> i hope you become famous .\n",
            "= ich hoffe du wirst beruhmt .\n",
            "< ich hoffe dass du beruhmt wirkst.\n",
            "\n",
            "> nothing changes .\n",
            "= nichts andert sich .\n",
            "< nichts verandert sich.\n",
            "\n",
            "> mary died during childbirth .\n",
            "= maria starb bei der geburts ihres kindes .\n",
            "< maria ist während der geburt gestorben.\n",
            "\n"
          ]
        }
      ]
    },
    {
      "cell_type": "markdown",
      "source": [
        "The Helsinki-NLP MarianMTModel is trained for machine translation, in this particular case it is specifically trained for English to German translation. Trained on a large dataset, it has a nice understanding of the translation flow.\n",
        "\n",
        "The model is not perfect but has decent values in the loss functions observed. The highest value of loss was 0.19, but usually most are under 0.10."
      ],
      "metadata": {
        "id": "h7VJRWFJ2_3-"
      }
    },
    {
      "cell_type": "markdown",
      "metadata": {
        "id": "iEXE_Wa8vGMM"
      },
      "source": [
        "# Credits\n",
        "\n",
        "This problem set is based upon an official PyTorch [tutorial](https://pytorch.org/tutorials/intermediate/seq2seq_translation_tutorial.html). Many thanks to PyTorch, [Sean Robertson](https://github.com/spro/practical-pytorch) and  [Florian Nachtigall](https://github.com/FlorianNachtigall).\n",
        "\n",
        "Be cautious with looking in the original notebook for answers. Many details have been changed and you won't be able to copy-and-paste solutions.\n"
      ]
    }
  ],
  "metadata": {
    "accelerator": "GPU",
    "colab": {
      "gpuType": "T4",
      "provenance": []
    },
    "kernelspec": {
      "display_name": "Python 3",
      "name": "python3"
    },
    "language_info": {
      "codemirror_mode": {
        "name": "ipython",
        "version": 3
      },
      "file_extension": ".py",
      "mimetype": "text/x-python",
      "name": "python",
      "nbconvert_exporter": "python",
      "pygments_lexer": "ipython3",
      "version": "3.11.6"
    },
    "vscode": {
      "interpreter": {
        "hash": "6718ee69a5bb56082d0947ea42dc2c4709b07299f2a8d77179593d74021d8684"
      }
    }
  },
  "nbformat": 4,
  "nbformat_minor": 0
}